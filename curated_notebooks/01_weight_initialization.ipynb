{
 "cells": [
  {
   "cell_type": "code",
   "execution_count": 2,
   "id": "fc86794d",
   "metadata": {},
   "outputs": [
    {
     "name": "stderr",
     "output_type": "stream",
     "text": [
      "c:\\Users\\Alberto\\anaconda3\\envs\\deepsnn\\Lib\\site-packages\\tqdm\\auto.py:21: TqdmWarning: IProgress not found. Please update jupyter and ipywidgets. See https://ipywidgets.readthedocs.io/en/stable/user_install.html\n",
      "  from .autonotebook import tqdm as notebook_tqdm\n"
     ]
    },
    {
     "name": "stdout",
     "output_type": "stream",
     "text": [
      "Running on: cuda:0\n",
      "[CropTime(min=0, max=1000000.0), ToFrame(sensor_size=(700, 1, 1), time_window=None, event_count=None, n_time_bins=50, n_event_bins=None, overlap=0, include_incomplete=False)]\n"
     ]
    }
   ],
   "source": [
    "from snn_delays.utils.dataset_loader import DatasetLoader\n",
    "from snn_delays.snn_refactored import SNN\n",
    "from snn_delays.utils.train_utils_refact_minimal import train, get_device, propagate_batch_simple\n",
    "from snn_delays.utils.test_behavior import tb_minimal\n",
    "# from snn_delays.utils.visualization_utils import plot_taus\n",
    "import numpy as np\n",
    "device = get_device()\n",
    "\n",
    "dataset = 'shd'\n",
    "total_time = 50\n",
    "batch_size = 1024\n",
    "\n",
    "# DATASET\n",
    "DL = DatasetLoader(dataset=dataset,\n",
    "                  caching='memory',\n",
    "                  num_workers=0,\n",
    "                  batch_size=batch_size,\n",
    "                  total_time=total_time,\n",
    "                  crop_to=1e6)\n",
    "train_loader, test_loader, dataset_dict = DL.get_dataloaders()"
   ]
  },
  {
   "cell_type": "code",
   "execution_count": 3,
   "id": "cc35cfa7",
   "metadata": {},
   "outputs": [
    {
     "name": "stdout",
     "output_type": "stream",
     "text": [
      "Delta t: 20.0 ms\n",
      "Delta t: 20.0 ms\n",
      "Delta t: 20.0 ms\n",
      "Delta t: 20.0 ms\n",
      "Delta t: 20.0 ms\n",
      "Delta t: 20.0 ms\n",
      "Delta t: 20.0 ms\n",
      "Delta t: 20.0 ms\n",
      "Delta t: 20.0 ms\n",
      "Delta t: 20.0 ms\n",
      "Delta t: 20.0 ms\n",
      "Delta t: 20.0 ms\n",
      "Delta t: 20.0 ms\n",
      "Delta t: 20.0 ms\n",
      "Delta t: 20.0 ms\n",
      "Delta t: 20.0 ms\n",
      "Delta t: 20.0 ms\n",
      "Delta t: 20.0 ms\n",
      "Delta t: 20.0 ms\n",
      "Delta t: 20.0 ms\n"
     ]
    },
    {
     "data": {
      "text/plain": [
       "SNN(\n",
       "  (criterion): CrossEntropyLoss()\n",
       "  (layers): ModuleList(\n",
       "    (0): FeedforwardSNNLayer(\n",
       "      (linear): Linear(in_features=700, out_features=64, bias=False)\n",
       "    )\n",
       "    (1): FeedforwardSNNLayer(\n",
       "      (linear): Linear(in_features=1152, out_features=64, bias=False)\n",
       "    )\n",
       "    (2): FeedforwardSNNLayer(\n",
       "      (linear): Linear(in_features=64, out_features=20, bias=False)\n",
       "    )\n",
       "  )\n",
       ")"
      ]
     },
     "execution_count": 3,
     "metadata": {},
     "output_type": "execute_result"
    }
   ],
   "source": [
    "num_h = 64\n",
    "\n",
    "time_window = total_time\n",
    "\n",
    "tau_m = 'log-uniform-st'\n",
    "\n",
    "snn_vf = SNN(dataset_dict, structure=(num_h, 2, 'f'), win=time_window, tau_m=tau_m,\n",
    "             loss_fn='mem_sum', batch_size=batch_size, device=device, debug=False)\n",
    "\n",
    "snn_vf.set_layers()\n",
    "snn_vf.to(device)\n",
    "\n",
    "extra_kwargs = {'multifeedforward':3}\n",
    "snn_f = SNN(dataset_dict, structure=(num_h, 2, 'mf'), win=time_window, tau_m=tau_m,\n",
    "             loss_fn='mem_sum', batch_size=batch_size, device=device, debug=False, **extra_kwargs)\n",
    "\n",
    "snn_f.set_layers()\n",
    "snn_f.to(device)\n",
    "\n",
    "snn_rnn = SNN(dataset_dict, structure=(num_h, 2, 'r'), win=time_window, tau_m=tau_m,\n",
    "               loss_fn='mem_sum', batch_size=batch_size, device=device, debug=False)\n",
    "\n",
    "snn_rnn.set_layers()\n",
    "snn_rnn.to(device)\n",
    "\n",
    "extra_kwargs = {'delay_range':(18, 1),\n",
    "                'pruned_delays': 3}\n",
    "\n",
    "snn_rd = SNN(dataset_dict, structure=(num_h, 2, 'd'), win=time_window, tau_m=tau_m,\n",
    "               loss_fn='mem_sum', batch_size=batch_size, device=device, debug=False, **extra_kwargs)\n",
    "\n",
    "snn_rd.set_layers()\n",
    "snn_rd.to(device)"
   ]
  },
  {
   "cell_type": "code",
   "execution_count": 4,
   "id": "e238d57b",
   "metadata": {},
   "outputs": [
    {
     "name": "stdout",
     "output_type": "stream",
     "text": [
      "vanilla feedforward SNN\n",
      "2264\n",
      "Test Loss: 24.178723017374676\n",
      "Avg spk_count per neuron for all 50 time-steps 359.62941696113074\n",
      "Test Accuracy of the model on the test samples: 6.758\n",
      "\n",
      "multifeedforward SNN\n",
      "2264\n",
      "Test Loss: 14.634428342183432\n",
      "Avg spk_count per neuron for all 50 time-steps 378.45494699646645\n",
      "Test Accuracy of the model on the test samples: 2.739\n",
      "\n",
      "RNN SNN\n",
      "2264\n",
      "Test Loss: 9.70146910349528\n",
      "Avg spk_count per neuron for all 50 time-steps 373.74734982332154\n",
      "Test Accuracy of the model on the test samples: 4.373\n",
      "\n",
      "delayed SNN\n",
      "2264\n",
      "Test Loss: 16.746676762898762\n",
      "Avg spk_count per neuron for all 50 time-steps 453.7988074204947\n",
      "Test Accuracy of the model on the test samples: 4.814\n",
      "\n"
     ]
    }
   ],
   "source": [
    "print(\"vanilla feedforward SNN\")\n",
    "a, b = snn_vf.test(test_loader)\n",
    "print(\"multifeedforward SNN\")\n",
    "a, b = snn_f.test(test_loader)\n",
    "print(\"RNN SNN\")\n",
    "a, b = snn_rnn.test(test_loader)\n",
    "print(\"delayed SNN\")\n",
    "a, b = snn_rd.test(test_loader)"
   ]
  },
  {
   "cell_type": "markdown",
   "id": "5f3af695",
   "metadata": {},
   "source": [
    "Vanilla feedforward"
   ]
  },
  {
   "cell_type": "code",
   "execution_count": 5,
   "id": "aa299310",
   "metadata": {},
   "outputs": [
    {
     "name": "stdout",
     "output_type": "stream",
     "text": [
      "tensor(0.0378, device='cuda:0')\n",
      "tensor(0.1250, device='cuda:0')\n",
      "tensor(0.1248, device='cuda:0')\n"
     ]
    },
    {
     "data": {
      "text/plain": [
       "<matplotlib.legend.Legend at 0x25dde256f30>"
      ]
     },
     "execution_count": 5,
     "metadata": {},
     "output_type": "execute_result"
    },
    {
     "data": {
      "image/png": "[encoded data removed]",
      "text/plain": [
       "<Figure size 640x480 with 1 Axes>"
      ]
     },
     "metadata": {},
     "output_type": "display_data"
    }
   ],
   "source": [
    "import matplotlib.pyplot as plt\n",
    "from snn_delays.utils.visualization_utils import plot_param\n",
    "for i, p in enumerate(snn_vf.layers):\n",
    "    plot_param(p.linear, label=i)\n",
    "    print(p.linear.weight.data.max())\n",
    "plt.legend()"
   ]
  },
  {
   "cell_type": "code",
   "execution_count": 6,
   "id": "b6567074",
   "metadata": {},
   "outputs": [
    {
     "data": {
      "text/plain": [
       "3.306878306878307"
      ]
     },
     "execution_count": 6,
     "metadata": {},
     "output_type": "execute_result"
    }
   ],
   "source": [
    "0.1250/0.0378"
   ]
  },
  {
   "cell_type": "code",
   "execution_count": 7,
   "id": "5d1a5531",
   "metadata": {},
   "outputs": [
    {
     "data": {
      "text/plain": [
       "3.307189138830738"
      ]
     },
     "execution_count": 7,
     "metadata": {},
     "output_type": "execute_result"
    }
   ],
   "source": [
    "np.sqrt(700/64)"
   ]
  },
  {
   "cell_type": "markdown",
   "id": "acdc17d1",
   "metadata": {},
   "source": []
  },
  {
   "cell_type": "markdown",
   "id": "c37c78da",
   "metadata": {},
   "source": [
    "Multi Feedforward"
   ]
  },
  {
   "cell_type": "code",
   "execution_count": 8,
   "id": "afc00860",
   "metadata": {},
   "outputs": [
    {
     "data": {
      "text/plain": [
       "<matplotlib.legend.Legend at 0x25deca0b560>"
      ]
     },
     "execution_count": 8,
     "metadata": {},
     "output_type": "execute_result"
    },
    {
     "data": {
      "image/png": "[encoded data removed]",
      "text/plain": [
       "<Figure size 640x480 with 1 Axes>"
      ]
     },
     "metadata": {},
     "output_type": "display_data"
    }
   ],
   "source": [
    "from snn_delays.utils.visualization_utils import plot_param\n",
    "for i, p in enumerate(snn_f.layers):\n",
    "    plot_param(p.linear, label=i)\n",
    "plt.legend()"
   ]
  },
  {
   "cell_type": "markdown",
   "id": "a9f32d03",
   "metadata": {},
   "source": [
    "Delays (random mask)"
   ]
  },
  {
   "cell_type": "code",
   "execution_count": 10,
   "id": "80603036",
   "metadata": {},
   "outputs": [
    {
     "data": {
      "text/plain": [
       "<matplotlib.legend.Legend at 0x25e2ea78c20>"
      ]
     },
     "execution_count": 10,
     "metadata": {},
     "output_type": "execute_result"
    },
    {
     "data": {
      "image/png": "[encoded data removed]",
      "text/plain": [
       "<Figure size 640x480 with 1 Axes>"
      ]
     },
     "metadata": {},
     "output_type": "display_data"
    }
   ],
   "source": [
    "from snn_delays.utils.visualization_utils import plot_param\n",
    "for i, p in enumerate(snn_rd.layers):\n",
    "    plot_param(p.linear, label=i, mode='histogram_nonzero')\n",
    "plt.legend()"
   ]
  },
  {
   "cell_type": "code",
   "execution_count": 11,
   "id": "975238fb",
   "metadata": {},
   "outputs": [
    {
     "data": {
      "text/plain": [
       "<matplotlib.legend.Legend at 0x25e2eb7d580>"
      ]
     },
     "execution_count": 11,
     "metadata": {},
     "output_type": "execute_result"
    },
    {
     "data": {
      "image/png": "[encoded data removed]",
      "text/plain": [
       "<Figure size 640x480 with 1 Axes>"
      ]
     },
     "metadata": {},
     "output_type": "display_data"
    }
   ],
   "source": [
    "from snn_delays.utils.visualization_utils import plot_param\n",
    "for i, p in enumerate(snn_rnn.layers[:-1]):\n",
    "    plot_param(p.linear, label=i)\n",
    "    plot_param(p.linear_rec, label='r'+str(i))\n",
    "plot_param(snn_rnn.layers[-1].linear, label=2)\n",
    "plt.legend()"
   ]
  }
 ],
 "metadata": {
  "kernelspec": {
   "display_name": "deepsnn",
   "language": "python",
   "name": "python3"
  },
  "language_info": {
   "codemirror_mode": {
    "name": "ipython",
    "version": 3
   },
   "file_extension": ".py",
   "mimetype": "text/x-python",
   "name": "python",
   "nbconvert_exporter": "python",
   "pygments_lexer": "ipython3",
   "version": "3.12.1"
  }
 },
 "nbformat": 4,
 "nbformat_minor": 5
}
