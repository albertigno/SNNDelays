{
 "cells": [
  {
   "cell_type": "code",
   "execution_count": 1,
   "metadata": {},
   "outputs": [
    {
     "name": "stderr",
     "output_type": "stream",
     "text": [
      "c:\\Users\\Alberto\\anaconda3\\envs\\deepsnn\\Lib\\site-packages\\tqdm\\auto.py:21: TqdmWarning: IProgress not found. Please update jupyter and ipywidgets. See https://ipywidgets.readthedocs.io/en/stable/user_install.html\n",
      "  from .autonotebook import tqdm as notebook_tqdm\n"
     ]
    },
    {
     "name": "stdout",
     "output_type": "stream",
     "text": [
      "Running on: cuda:0\n",
      "[ToFrame(sensor_size=(700, 1, 1), time_window=None, event_count=None, n_time_bins=16, n_event_bins=None, overlap=0, include_incomplete=False)]\n",
      "\n",
      "[INFO] Delays: tensor([ 0,  4,  8, 12])\n",
      "\n",
      "[INFO] Delays i: tensor([0])\n",
      "\n",
      "[INFO] Delays h: tensor([ 0,  4,  8, 12])\n",
      "\n",
      "[INFO] Delays o: tensor([ 0,  4,  8, 12])\n",
      "Layer Names and Parameters:\n",
      "Layer: tau_m_1, Requires Grad: True\n",
      "Layer: tau_m_o, Requires Grad: True\n",
      "Layer: tau_m_2, Requires Grad: True\n",
      "Layer: f0_f1.weight, Requires Grad: True\n",
      "Layer: f1_f2.weight, Requires Grad: True\n",
      "Layer: f2_o.weight, Requires Grad: True\n",
      "\n",
      "Projection Names:\n",
      "Projection: f1_f2\n",
      "Projection: f2_o\n"
     ]
    }
   ],
   "source": [
    "# snn_layers.py\n",
    "\n",
    "import torch\n",
    "from snn_delays.snn import SNN\n",
    "from snn_delays.utils.dataset_loader import DatasetLoader\n",
    "from snn_delays.utils.train_utils import get_device, copy_snn, train\n",
    "from snn_delays.utils.test_behavior import tb_save_max_last_acc\n",
    "\n",
    "# Ensure reproducibility\n",
    "torch.manual_seed(10)\n",
    "\n",
    "# Setup device\n",
    "device = get_device()\n",
    "\n",
    "# Define dataset parameters\n",
    "dataset = 'shd'\n",
    "total_time = 16\n",
    "batch_size = 256\n",
    "\n",
    "# Initialize DatasetLoader and get data loaders\n",
    "DL = DatasetLoader(dataset=dataset, caching='memory', num_workers=0, batch_size=batch_size, total_time=total_time)\n",
    "train_loader, test_loader, dataset_dict = DL.get_dataloaders()\n",
    "\n",
    "# Define model parameters\n",
    "structure = (48, 2)\n",
    "connection_type = 'f'\n",
    "delay = (16, 4)\n",
    "delay_type = 'ho'\n",
    "tau_m = 3.0\n",
    "win = total_time\n",
    "loss_fn = 'mem_sum'\n",
    "debug = True\n",
    "\n",
    "# Initialize SNN model\n",
    "snn = SNN(dataset_dict=dataset_dict, structure=structure, connection_type=connection_type, delay=delay, delay_type=delay_type, tau_m=tau_m, win=win, loss_fn=loss_fn, batch_size=batch_size, device=device, debug=debug)\n",
    "snn.to(device)\n",
    "\n",
    "# Print all layer names and their parameters\n",
    "print(\"Layer Names and Parameters:\")\n",
    "for name, param in snn.named_parameters():\n",
    "    print(f\"Layer: {name}, Requires Grad: {param.requires_grad}\")\n",
    "\n",
    "# Print all projection names\n",
    "print(\"\\nProjection Names:\")\n",
    "for proj in snn.proj_names:\n",
    "    print(f\"Projection: {proj}\")"
   ]
  },
  {
   "cell_type": "code",
   "execution_count": 2,
   "metadata": {},
   "outputs": [
    {
     "name": "stdout",
     "output_type": "stream",
     "text": [
      "training shd16_SNN_l2_16d4.t7 for 5 epochs...\n",
      "Epoch [1/5], learning_rates 0.004000, 0.020000\n"
     ]
    },
    {
     "name": "stderr",
     "output_type": "stream",
     "text": [
      "c:\\Users\\Alberto\\anaconda3\\envs\\deepsnn\\Lib\\site-packages\\torch\\optim\\lr_scheduler.py:156: UserWarning: The epoch parameter in `scheduler.step()` was not necessary and is being deprecated where possible. Please use `scheduler.step()` to step the scheduler. During the deprecation, if epoch is different from None, the closed form is used instead of the new chainable form, where available. Please open an issue if you are unable to replicate your use case: https://github.com/pytorch/pytorch/issues/new/choose.\n",
      "  warnings.warn(EPOCH_DEPRECATION_WARNING, UserWarning)\n"
     ]
    },
    {
     "name": "stdout",
     "output_type": "stream",
     "text": [
      "Step [10/31], Loss: 2.85892\n",
      "l1_score: 0\n",
      "Step [20/31], Loss: 2.45266\n",
      "l1_score: 0\n",
      "Step [30/31], Loss: 2.12546\n",
      "l1_score: 0\n",
      "Time elasped: 38.58877372741699\n",
      "Epoch [2/5], learning_rates 0.004000, 0.020000\n",
      "Step [10/31], Loss: 1.75973\n",
      "l1_score: 0\n",
      "Step [20/31], Loss: 1.57398\n",
      "l1_score: 0\n",
      "Step [30/31], Loss: 1.49087\n",
      "l1_score: 0\n",
      "Time elasped: 4.487684726715088\n",
      "Epoch [3/5], learning_rates 0.004000, 0.020000\n",
      "Step [10/31], Loss: 1.20505\n",
      "l1_score: 0\n",
      "Step [20/31], Loss: 1.02223\n",
      "l1_score: 0\n",
      "Step [30/31], Loss: 1.03346\n",
      "l1_score: 0\n",
      "Time elasped: 4.595701694488525\n",
      "Epoch [4/5], learning_rates 0.004000, 0.020000\n",
      "Step [10/31], Loss: 0.92329\n",
      "l1_score: 0\n",
      "Step [20/31], Loss: 0.93230\n",
      "l1_score: 0\n",
      "Step [30/31], Loss: 0.81659\n",
      "l1_score: 0\n",
      "Time elasped: 4.88051438331604\n",
      "Epoch [5/5], learning_rates 0.004000, 0.020000\n",
      "Step [10/31], Loss: 0.56154\n",
      "l1_score: 0\n",
      "Step [20/31], Loss: 0.71778\n",
      "l1_score: 0\n",
      "Step [30/31], Loss: 0.82566\n",
      "l1_score: 0\n",
      "Time elasped: 5.184002161026001\n",
      "Test Loss: 0.9508240818977356\n",
      "Avg spk_count per neuron for all 16 time-steps 1.8930219411849976\n",
      "Avg spk per neuron per layer [3.288712841883144, 4.283375662544169]\n",
      "Test Accuracy of the model on the test samples: 76.502\n",
      "\n",
      "Model saved in  C:\\Users\\Alberto\\OneDrive - UNIVERSIDAD DE SEVILLA\\PythonData\\Checkpoints\\test\n",
      "Gradient norm for 'tau_m_1': 0.0009\n",
      "Gradient norm for 'tau_m_o': 0.0484\n",
      "Gradient norm for 'tau_m_2': 0.0032\n",
      "Gradient norm for 'f0_f1.weight': 0.1164\n",
      "Gradient norm for 'f1_f2.weight': 0.4477\n",
      "Gradient norm for 'f2_o.weight': 1.5326\n",
      "saving max acc: 76.5017667844523\n",
      "Model saved in  C:\\Users\\Alberto\\OneDrive - UNIVERSIDAD DE SEVILLA\\PythonData\\Checkpoints\\test\n"
     ]
    }
   ],
   "source": [
    "train(snn, train_loader, test_loader, 4*1e-3, 5, dropout=0.0, lr_scale=(5.0, 2.0), \n",
    "      test_behavior=tb_save_max_last_acc, ckpt_dir='test', scheduler=(10, 0.95), test_every=5)"
   ]
  },
  {
   "cell_type": "code",
   "execution_count": 5,
   "metadata": {},
   "outputs": [
    {
     "data": {
      "text/plain": [
       "{'tau_m_1': tensor([ 6.9100e-06,  2.8347e-04,  1.3752e-07,  2.0471e-06,  8.6389e-07,\n",
       "          1.1415e-04,  2.9437e-07,  1.2959e-06,  1.4235e-06,  2.0009e-05,\n",
       "         -4.5265e-06, -6.4171e-05, -4.2044e-04,  2.9784e-05,  1.1978e-05,\n",
       "          5.8423e-05,  2.2812e-07,  5.4725e-05,  4.3840e-05,  7.6452e-05,\n",
       "          1.9867e-06,  2.9860e-04, -7.6812e-07,  3.8503e-04,  1.7431e-05,\n",
       "         -8.9531e-09,  2.1195e-06, -4.9106e-05,  1.7663e-07,  2.0623e-04,\n",
       "          8.6593e-07,  1.1747e-06, -1.1052e-04, -4.8775e-05, -3.8846e-06,\n",
       "          5.6896e-06, -7.5697e-06, -1.7769e-04, -1.9182e-05, -1.0759e-06,\n",
       "          5.7723e-07, -1.9755e-06, -2.4950e-06,  1.9789e-05, -3.0158e-04,\n",
       "         -2.2000e-04, -5.1125e-07,  5.2821e-06], device='cuda:0'),\n",
       " 'tau_m_o': tensor([-0.0059, -0.0002, -0.0065, -0.0136, -0.0060,  0.0012, -0.0085, -0.0106,\n",
       "          0.0014,  0.0049, -0.0157, -0.0031, -0.0029, -0.0068,  0.0068, -0.0048,\n",
       "          0.0068,  0.0338, -0.0019,  0.0161], device='cuda:0'),\n",
       " 'tau_m_2': tensor([-5.0911e-04,  1.3041e-05, -3.2490e-05,  4.2230e-05, -1.0738e-04,\n",
       "         -2.0207e-04,  9.3612e-05,  1.6327e-04, -3.1888e-05, -2.0141e-04,\n",
       "         -1.3063e-04,  7.2210e-05, -3.5210e-05, -1.3953e-04,  6.4590e-04,\n",
       "         -5.6813e-05, -9.0918e-05, -4.9492e-05, -7.8779e-04,  2.4513e-04,\n",
       "         -2.3278e-04,  9.7178e-05,  2.6189e-05, -1.3174e-04,  8.1483e-04,\n",
       "         -2.1919e-03,  3.4580e-04,  3.9429e-05,  3.2704e-04,  1.6667e-04,\n",
       "         -7.0092e-05, -1.5041e-04, -3.5180e-05,  7.7300e-05,  1.5184e-05,\n",
       "         -3.3264e-05, -1.0630e-03, -1.1207e-04, -2.5402e-05, -1.2361e-05,\n",
       "          8.5122e-04,  4.7693e-04,  5.4958e-05, -5.7687e-04,  3.6126e-04,\n",
       "         -4.2956e-06, -1.4492e-04,  2.7074e-04], device='cuda:0'),\n",
       " 'f0_f1.weight': tensor([[-2.2244e-04, -1.8418e-04, -3.4153e-05,  ..., -1.3281e-06,\n",
       "          -5.6237e-05,  6.1244e-06],\n",
       "         [-1.0312e-04, -4.6253e-05, -1.6165e-04,  ..., -3.9864e-04,\n",
       "          -4.2439e-04, -3.1328e-04],\n",
       "         [ 7.0967e-07, -7.6077e-08, -1.6959e-06,  ...,  3.0710e-07,\n",
       "          -1.6596e-06, -7.6834e-07],\n",
       "         ...,\n",
       "         [ 2.5821e-04,  9.6798e-05,  1.4877e-04,  ...,  1.4973e-04,\n",
       "           1.1814e-04,  4.7731e-04],\n",
       "         [-7.2783e-07, -2.4028e-06,  2.8918e-07,  ..., -2.6007e-07,\n",
       "           4.4284e-07, -8.2748e-07],\n",
       "         [-1.3399e-04, -1.2979e-05, -4.9099e-06,  ...,  5.6237e-05,\n",
       "          -1.7807e-05, -4.1388e-06]], device='cuda:0'),\n",
       " 'f1_f2.weight': tensor([[ 9.8869e-06,  6.5088e-04, -3.1128e-03,  ..., -1.4973e-04,\n",
       "          -1.3959e-04, -3.4392e-05],\n",
       "         [-1.0501e-07, -2.7493e-06, -1.2115e-05,  ..., -4.7823e-07,\n",
       "          -8.3214e-07,  1.3493e-05],\n",
       "         [ 5.1945e-05,  6.7377e-04,  1.1997e-03,  ..., -3.7044e-05,\n",
       "           1.3471e-05,  8.2874e-04],\n",
       "         ...,\n",
       "         [ 5.9694e-05,  8.4043e-06,  7.5400e-05,  ...,  1.8492e-05,\n",
       "          -1.9640e-05,  4.4927e-06],\n",
       "         [ 3.0488e-05, -3.0577e-05,  5.6696e-04,  ...,  7.8380e-06,\n",
       "           2.7657e-04,  8.1658e-05],\n",
       "         [-1.2171e-04, -5.1928e-04, -1.8311e-03,  ..., -1.3781e-04,\n",
       "          -1.0967e-05, -6.8665e-05]], device='cuda:0'),\n",
       " 'f2_o.weight': tensor([[ 1.3809e-03,  5.1155e-03,  8.2626e-03,  ...,  7.3929e-03,\n",
       "           1.5640e-02,  5.2032e-03],\n",
       "         [ 5.0962e-06,  6.7062e-03,  9.0942e-03,  ...,  7.6408e-03,\n",
       "           1.6586e-02,  2.0630e-02],\n",
       "         [-7.4530e-04, -3.3340e-03, -6.0463e-04,  ...,  9.7466e-04,\n",
       "           8.6975e-03,  1.4587e-02],\n",
       "         ...,\n",
       "         [ 5.9700e-04,  5.8670e-03,  3.1830e-02,  ...,  3.5191e-03,\n",
       "           1.5091e-02,  4.7699e-02],\n",
       "         [-3.8128e-06,  3.8815e-04, -3.3913e-03,  ...,  3.2845e-03,\n",
       "           6.3133e-03, -1.0653e-03],\n",
       "         [ 5.1081e-05,  9.2793e-04,  7.0114e-03,  ...,  8.3389e-03,\n",
       "           2.7985e-02,  2.4338e-02]], device='cuda:0')}"
      ]
     },
     "execution_count": 5,
     "metadata": {},
     "output_type": "execute_result"
    }
   ],
   "source": [
    "stored_grads = {\n",
    "    name: param.grad.clone() \n",
    "    for name, param in snn.named_parameters() \n",
    "    if param.grad is not None\n",
    "}\n",
    "stored_grads"
   ]
  },
  {
   "cell_type": "code",
   "execution_count": 4,
   "metadata": {},
   "outputs": [
    {
     "name": "stdout",
     "output_type": "stream",
     "text": [
      "\n",
      "[INFO] Delays: tensor([ 0,  4,  8, 12])\n",
      "\n",
      "[INFO] Delays i: tensor([0])\n",
      "\n",
      "[INFO] Delays h: tensor([ 0,  4,  8, 12])\n",
      "\n",
      "[INFO] Delays o: tensor([ 0,  4,  8, 12])\n"
     ]
    }
   ],
   "source": [
    "snn3 = copy_snn(snn, 10)"
   ]
  },
  {
   "cell_type": "code",
   "execution_count": 6,
   "metadata": {},
   "outputs": [
    {
     "data": {
      "text/plain": [
       "{'tau_m_1': tensor([ 6.9100e-06,  2.8347e-04,  1.3752e-07,  2.0471e-06,  8.6389e-07,\n",
       "          1.1415e-04,  2.9437e-07,  1.2959e-06,  1.4235e-06,  2.0009e-05,\n",
       "         -4.5265e-06, -6.4171e-05, -4.2044e-04,  2.9784e-05,  1.1978e-05,\n",
       "          5.8423e-05,  2.2812e-07,  5.4725e-05,  4.3840e-05,  7.6452e-05,\n",
       "          1.9867e-06,  2.9860e-04, -7.6812e-07,  3.8503e-04,  1.7431e-05,\n",
       "         -8.9531e-09,  2.1195e-06, -4.9106e-05,  1.7663e-07,  2.0623e-04,\n",
       "          8.6593e-07,  1.1747e-06, -1.1052e-04, -4.8775e-05, -3.8846e-06,\n",
       "          5.6896e-06, -7.5697e-06, -1.7769e-04, -1.9182e-05, -1.0759e-06,\n",
       "          5.7723e-07, -1.9755e-06, -2.4950e-06,  1.9789e-05, -3.0158e-04,\n",
       "         -2.2000e-04, -5.1125e-07,  5.2821e-06], device='cuda:0'),\n",
       " 'tau_m_o': tensor([-0.0059, -0.0002, -0.0065, -0.0136, -0.0060,  0.0012, -0.0085, -0.0106,\n",
       "          0.0014,  0.0049, -0.0157, -0.0031, -0.0029, -0.0068,  0.0068, -0.0048,\n",
       "          0.0068,  0.0338, -0.0019,  0.0161], device='cuda:0'),\n",
       " 'tau_m_2': tensor([-5.0911e-04,  1.3041e-05, -3.2490e-05,  4.2230e-05, -1.0738e-04,\n",
       "         -2.0207e-04,  9.3612e-05,  1.6327e-04, -3.1888e-05, -2.0141e-04,\n",
       "         -1.3063e-04,  7.2210e-05, -3.5210e-05, -1.3953e-04,  6.4590e-04,\n",
       "         -5.6813e-05, -9.0918e-05, -4.9492e-05, -7.8779e-04,  2.4513e-04,\n",
       "         -2.3278e-04,  9.7178e-05,  2.6189e-05, -1.3174e-04,  8.1483e-04,\n",
       "         -2.1919e-03,  3.4580e-04,  3.9429e-05,  3.2704e-04,  1.6667e-04,\n",
       "         -7.0092e-05, -1.5041e-04, -3.5180e-05,  7.7300e-05,  1.5184e-05,\n",
       "         -3.3264e-05, -1.0630e-03, -1.1207e-04, -2.5402e-05, -1.2361e-05,\n",
       "          8.5122e-04,  4.7693e-04,  5.4958e-05, -5.7687e-04,  3.6126e-04,\n",
       "         -4.2956e-06, -1.4492e-04,  2.7074e-04], device='cuda:0'),\n",
       " 'f0_f1.weight': tensor([[-2.2244e-04, -1.8418e-04, -3.4153e-05,  ..., -1.3281e-06,\n",
       "          -5.6237e-05,  6.1244e-06],\n",
       "         [-1.0312e-04, -4.6253e-05, -1.6165e-04,  ..., -3.9864e-04,\n",
       "          -4.2439e-04, -3.1328e-04],\n",
       "         [ 7.0967e-07, -7.6077e-08, -1.6959e-06,  ...,  3.0710e-07,\n",
       "          -1.6596e-06, -7.6834e-07],\n",
       "         ...,\n",
       "         [ 2.5821e-04,  9.6798e-05,  1.4877e-04,  ...,  1.4973e-04,\n",
       "           1.1814e-04,  4.7731e-04],\n",
       "         [-7.2783e-07, -2.4028e-06,  2.8918e-07,  ..., -2.6007e-07,\n",
       "           4.4284e-07, -8.2748e-07],\n",
       "         [-1.3399e-04, -1.2979e-05, -4.9099e-06,  ...,  5.6237e-05,\n",
       "          -1.7807e-05, -4.1388e-06]], device='cuda:0'),\n",
       " 'f1_f2.weight': tensor([[ 9.8869e-06,  6.5088e-04, -3.1128e-03,  ..., -1.4973e-04,\n",
       "          -1.3959e-04, -3.4392e-05],\n",
       "         [-1.0501e-07, -2.7493e-06, -1.2115e-05,  ..., -4.7823e-07,\n",
       "          -8.3214e-07,  1.3493e-05],\n",
       "         [ 5.1945e-05,  6.7377e-04,  1.1997e-03,  ..., -3.7044e-05,\n",
       "           1.3471e-05,  8.2874e-04],\n",
       "         ...,\n",
       "         [ 5.9694e-05,  8.4043e-06,  7.5400e-05,  ...,  1.8492e-05,\n",
       "          -1.9640e-05,  4.4927e-06],\n",
       "         [ 3.0488e-05, -3.0577e-05,  5.6696e-04,  ...,  7.8380e-06,\n",
       "           2.7657e-04,  8.1658e-05],\n",
       "         [-1.2171e-04, -5.1928e-04, -1.8311e-03,  ..., -1.3781e-04,\n",
       "          -1.0967e-05, -6.8665e-05]], device='cuda:0'),\n",
       " 'f2_o.weight': tensor([[ 1.3809e-03,  5.1155e-03,  8.2626e-03,  ...,  7.3929e-03,\n",
       "           1.5640e-02,  5.2032e-03],\n",
       "         [ 5.0962e-06,  6.7062e-03,  9.0942e-03,  ...,  7.6408e-03,\n",
       "           1.6586e-02,  2.0630e-02],\n",
       "         [-7.4530e-04, -3.3340e-03, -6.0463e-04,  ...,  9.7466e-04,\n",
       "           8.6975e-03,  1.4587e-02],\n",
       "         ...,\n",
       "         [ 5.9700e-04,  5.8670e-03,  3.1830e-02,  ...,  3.5191e-03,\n",
       "           1.5091e-02,  4.7699e-02],\n",
       "         [-3.8128e-06,  3.8815e-04, -3.3913e-03,  ...,  3.2845e-03,\n",
       "           6.3133e-03, -1.0653e-03],\n",
       "         [ 5.1081e-05,  9.2793e-04,  7.0114e-03,  ...,  8.3389e-03,\n",
       "           2.7985e-02,  2.4338e-02]], device='cuda:0')}"
      ]
     },
     "execution_count": 6,
     "metadata": {},
     "output_type": "execute_result"
    }
   ],
   "source": [
    "stored_grads = {\n",
    "    name: param.grad.clone() \n",
    "    for name, param in snn3.named_parameters() \n",
    "    if param.grad is not None\n",
    "}\n",
    "stored_grads"
   ]
  },
  {
   "cell_type": "code",
   "execution_count": 2,
   "metadata": {},
   "outputs": [
    {
     "name": "stdout",
     "output_type": "stream",
     "text": [
      "\n",
      "[INFO] Delays: tensor([ 0,  8, 16, 24])\n",
      "\n",
      "[INFO] Delays i: tensor([0])\n",
      "\n",
      "[INFO] Delays h: tensor([ 0,  8, 16, 24])\n",
      "\n",
      "[INFO] Delays o: tensor([ 0,  8, 16, 24])\n"
     ]
    },
    {
     "data": {
      "text/plain": [
       "<All keys matched successfully>"
      ]
     },
     "execution_count": 2,
     "metadata": {},
     "output_type": "execute_result"
    }
   ],
   "source": [
    "kwargs = snn.kwargs.copy()\n",
    "kwargs.pop('self', None)\n",
    "snn_type = kwargs.pop('__class__', None)\n",
    "kwargs['batch_size'] = 128\n",
    "snn2 = snn_type(**kwargs)\n",
    "snn2.load_state_dict(snn.state_dict())"
   ]
  }
 ],
 "metadata": {
  "kernelspec": {
   "display_name": "deepsnn",
   "language": "python",
   "name": "python3"
  },
  "language_info": {
   "codemirror_mode": {
    "name": "ipython",
    "version": 3
   },
   "file_extension": ".py",
   "mimetype": "text/x-python",
   "name": "python",
   "nbconvert_exporter": "python",
   "pygments_lexer": "ipython3",
   "version": "3.12.1"
  }
 },
 "nbformat": 4,
 "nbformat_minor": 2
}
