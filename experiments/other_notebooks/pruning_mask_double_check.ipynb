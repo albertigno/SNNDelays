{
 "cells": [
  {
   "cell_type": "code",
   "execution_count": 13,
   "metadata": {},
   "outputs": [
    {
     "name": "stdout",
     "output_type": "stream",
     "text": [
      "[CropTime(min=0, max=1000000.0), ToFrame(sensor_size=(700, 1, 1), time_window=None, event_count=None, n_time_bins=50, n_event_bins=None, overlap=0, include_incomplete=False)]\n",
      "<class 'list'>\n"
     ]
    }
   ],
   "source": [
    "from snn_delays.experimental_models.snn_delay_prun import P_DelaySNN\n",
    "from snn_delays.snn import SNN\n",
    "from snn_delays.utils.dataset_loader import DatasetLoader\n",
    "from snn_delays.utils.model_loader import ModelLoader\n",
    "from snn_delays.utils.train_utils import train, get_device\n",
    "from snn_delays.utils.test_behavior import tb_save_max_last_acc\n",
    "\n",
    "dataset = 'shd'\n",
    "total_time = 50\n",
    "batch_size = 1024\n",
    "\n",
    "# DATASET\n",
    "DL = DatasetLoader(dataset=dataset,\n",
    "                   caching='gpu',\n",
    "                   num_workers=0,\n",
    "                   batch_size=batch_size,\n",
    "                   total_time=total_time,\n",
    "                   crop_to=1e6)\n",
    "train_loader, test_loader, dataset_dict = DL.get_dataloaders()"
   ]
  },
  {
   "cell_type": "code",
   "execution_count": 14,
   "metadata": {},
   "outputs": [
    {
     "name": "stdout",
     "output_type": "stream",
     "text": [
      "Running on: cuda:0\n",
      "\n",
      "[INFO] Delays: tensor([ 0,  1,  2,  3,  4,  5,  6,  7,  8,  9, 10, 11, 12, 13, 14, 15, 16, 17,\n",
      "        18, 19, 20, 21, 22, 23, 24, 25, 26, 27, 28, 29, 30, 31, 32, 33, 34, 35,\n",
      "        36, 37, 38, 39])\n",
      "\n",
      "[INFO] Delays i: tensor([0])\n",
      "\n",
      "[INFO] Delays h: tensor([ 0,  1,  2,  3,  4,  5,  6,  7,  8,  9, 10, 11, 12, 13, 14, 15, 16, 17,\n",
      "        18, 19, 20, 21, 22, 23, 24, 25, 26, 27, 28, 29, 30, 31, 32, 33, 34, 35,\n",
      "        36, 37, 38, 39])\n",
      "\n",
      "[INFO] Delays o: tensor([0])\n",
      "1000.0\n",
      "Delta t: 20.0 ms\n",
      "Instance of <class 'snn_delays.experimental_models.snn_delay_prun.P_DelaySNN'> loaded successfully\n"
     ]
    }
   ],
   "source": [
    "device = get_device()\n",
    "snn = ModelLoader('f_rd_2l_hm_ft_rpt1_8776501766784452_max_16epoch', 'abl1_shd50_rd', 1024, device, False)"
   ]
  },
  {
   "cell_type": "code",
   "execution_count": 15,
   "metadata": {},
   "outputs": [
    {
     "name": "stdout",
     "output_type": "stream",
     "text": [
      "Test Loss: 0.42601779103279114\n",
      "Avg spk_count per neuron for all 50 time-steps 7.876911640167236\n",
      "Avg spk per neuron per layer [15.310229405918728, 16.19741745803887]\n",
      "Test Accuracy of the model on the test samples: 87.809\n",
      "\n"
     ]
    }
   ],
   "source": [
    "a, b = snn.test(test_loader)"
   ]
  },
  {
   "cell_type": "code",
   "execution_count": 16,
   "metadata": {},
   "outputs": [
    {
     "data": {
      "text/plain": [
       "tensor([[False,  True, False,  ..., False, False, False],\n",
       "        [False, False, False,  ..., False, False, False],\n",
       "        [ True, False, False,  ..., False, False, False],\n",
       "        ...,\n",
       "        [False, False, False,  ...,  True, False, False],\n",
       "        [False, False, False,  ..., False, False, False],\n",
       "        [False, False, False,  ..., False, False, False]], device='cuda:0')"
      ]
     },
     "execution_count": 16,
     "metadata": {},
     "output_type": "execute_result"
    }
   ],
   "source": [
    "snn.f1_f2.mask"
   ]
  },
  {
   "cell_type": "code",
   "execution_count": 25,
   "metadata": {},
   "outputs": [
    {
     "name": "stdout",
     "output_type": "stream",
     "text": [
      "\n",
      "[INFO] Delays: tensor([ 0,  1,  2,  3,  4,  5,  6,  7,  8,  9, 10, 11, 12, 13, 14, 15, 16, 17,\n",
      "        18, 19, 20, 21, 22, 23, 24, 25, 26, 27, 28, 29, 30, 31, 32, 33, 34, 35,\n",
      "        36, 37, 38, 39])\n",
      "\n",
      "[INFO] Delays i: tensor([0])\n",
      "\n",
      "[INFO] Delays h: tensor([ 0,  1,  2,  3,  4,  5,  6,  7,  8,  9, 10, 11, 12, 13, 14, 15, 16, 17,\n",
      "        18, 19, 20, 21, 22, 23, 24, 25, 26, 27, 28, 29, 30, 31, 32, 33, 34, 35,\n",
      "        36, 37, 38, 39])\n",
      "\n",
      "[INFO] Delays o: tensor([0])\n",
      "1000.0\n",
      "Delta t: 20.0 ms\n"
     ]
    }
   ],
   "source": [
    "snn2 = SNN(dataset_dict,\n",
    "        snn.structure,\n",
    "        snn.connection_type, \n",
    "        snn.delay, \n",
    "        snn.delay_type, \n",
    "        snn.reset_to_zero, \n",
    "        snn.tau_m, \n",
    "        snn.win, \n",
    "        snn.loss_fn, \n",
    "        snn.batch_size,\n",
    "        device, \n",
    "        True)\n",
    "snn2.set_network()"
   ]
  },
  {
   "cell_type": "code",
   "execution_count": 27,
   "metadata": {},
   "outputs": [],
   "source": [
    "for (name_src, param_src), (name_dst, param_dst) in zip(snn.named_parameters(), snn2.named_parameters()):\n",
    "    assert name_src.split('.')[0] == name_dst.split('.')[0], f\"Parameter mismatch: {name_src} != {name_dst}\"\n",
    "    param_dst.data.copy_(param_src.data)"
   ]
  },
  {
   "cell_type": "code",
   "execution_count": 48,
   "metadata": {},
   "outputs": [
    {
     "data": {
      "text/plain": [
       "<matplotlib.image.AxesImage at 0x20a13e648f0>"
      ]
     },
     "execution_count": 48,
     "metadata": {},
     "output_type": "execute_result"
    },
    {
     "data": {
      "image/png": "[encoded data removed]",
      "text/plain": [
       "<Figure size 1000x1000 with 2 Axes>"
      ]
     },
     "metadata": {},
     "output_type": "display_data"
    }
   ],
   "source": [
    "import matplotlib.pyplot as plt\n",
    "plt.figure(figsize=(10, 10))\n",
    "plt.subplot(311)\n",
    "plt.imshow(snn.f1_f2.linear.weight.data.detach().cpu().numpy()[:, :100], vmin=-0.1, vmax=0.1, cmap='RdBu')\n",
    "plt.subplot(312)\n",
    "plt.imshow(snn.f1_f2.mask.data.detach().cpu().numpy()[:, :100], vmin=-0.1, vmax=0.1, cmap='RdBu')"
   ]
  },
  {
   "cell_type": "code",
   "execution_count": 50,
   "metadata": {},
   "outputs": [
    {
     "data": {
      "text/plain": [
       "<matplotlib.image.AxesImage at 0x20a13d54d70>"
      ]
     },
     "execution_count": 50,
     "metadata": {},
     "output_type": "execute_result"
    },
    {
     "data": {
      "image/png": "[encoded data removed]",
      "text/plain": [
       "<Figure size 500x500 with 1 Axes>"
      ]
     },
     "metadata": {},
     "output_type": "display_data"
    }
   ],
   "source": [
    "import matplotlib.pyplot as plt\n",
    "plt.figure(figsize=(5, 5))\n",
    "plt.imshow(snn2.f1_f2.weight.data.detach().cpu().numpy()[:, :100], vmin=-0.1, vmax=0.1, cmap='RdBu')"
   ]
  },
  {
   "cell_type": "code",
   "execution_count": 52,
   "metadata": {},
   "outputs": [
    {
     "name": "stdout",
     "output_type": "stream",
     "text": [
      "Test Loss: 0.426446000734965\n",
      "Avg spk_count per neuron for all 50 time-steps 7.876911640167236\n",
      "Avg spk per neuron per layer [15.310229405918728, 16.19741745803887]\n",
      "Test Accuracy of the model on the test samples: 87.809\n",
      "\n"
     ]
    }
   ],
   "source": [
    "a, b = snn2.test(test_loader)"
   ]
  }
 ],
 "metadata": {
  "kernelspec": {
   "display_name": "deepsnn",
   "language": "python",
   "name": "python3"
  },
  "language_info": {
   "codemirror_mode": {
    "name": "ipython",
    "version": 3
   },
   "file_extension": ".py",
   "mimetype": "text/x-python",
   "name": "python",
   "nbconvert_exporter": "python",
   "pygments_lexer": "ipython3",
   "version": "3.12.1"
  }
 },
 "nbformat": 4,
 "nbformat_minor": 2
}
