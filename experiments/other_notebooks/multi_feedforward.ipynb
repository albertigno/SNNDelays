{
 "cells": [
  {
   "cell_type": "code",
   "execution_count": 1,
   "metadata": {},
   "outputs": [
    {
     "name": "stderr",
     "output_type": "stream",
     "text": [
      "c:\\Users\\Alberto\\anaconda3\\envs\\deepsnn\\Lib\\site-packages\\tqdm\\auto.py:21: TqdmWarning: IProgress not found. Please update jupyter and ipywidgets. See https://ipywidgets.readthedocs.io/en/stable/user_install.html\n",
      "  from .autonotebook import tqdm as notebook_tqdm\n"
     ]
    },
    {
     "name": "stdout",
     "output_type": "stream",
     "text": [
      "Running on: cuda:0\n",
      "[CropTime(min=0, max=1000000.0), ToFrame(sensor_size=(700, 1, 1), time_window=None, event_count=None, n_time_bins=50, n_event_bins=None, overlap=0, include_incomplete=False)]\n",
      "<class 'list'>\n",
      "\n",
      "[INFO] Delays: tensor([0])\n",
      "\n",
      "[INFO] Delays i: tensor([0])\n",
      "\n",
      "[INFO] Delays h: tensor([0])\n",
      "\n",
      "[INFO] Delays o: tensor([0])\n",
      "1000.0\n",
      "Delta t: 20.0 ms\n",
      "mean of normal: -0.541324854612918\n"
     ]
    },
    {
     "data": {
      "text/plain": [
       "SNN(\n",
       "  (criterion): CrossEntropyLoss()\n",
       "  (f0_f1): Linear(in_features=700, out_features=64, bias=False)\n",
       "  (f1_f2): Linear(in_features=64, out_features=64, bias=False)\n",
       "  (f2_o): Linear(in_features=64, out_features=20, bias=False)\n",
       ")"
      ]
     },
     "execution_count": 1,
     "metadata": {},
     "output_type": "execute_result"
    }
   ],
   "source": [
    "import torch\n",
    "import time\n",
    "from snn_delays.snn import SNN\n",
    "from snn_delays.utils.dataset_loader import DatasetLoader\n",
    "from snn_delays.utils.train_utils import train, get_device\n",
    "from snn_delays.utils.test_behavior import tb_save_max_last_acc\n",
    "\n",
    "'''\n",
    "SHD dataset as in ablation study\n",
    "'''\n",
    "\n",
    "device = get_device()\n",
    "\n",
    "# for reproducibility\n",
    "torch.manual_seed(10)\n",
    "\n",
    "dataset = 'shd'\n",
    "total_time = 50\n",
    "batch_size = 1024\n",
    "\n",
    "# DATASET\n",
    "DL = DatasetLoader(dataset=dataset,\n",
    "                  caching='memory',\n",
    "                  num_workers=0,\n",
    "                  batch_size=batch_size,\n",
    "                  total_time=total_time,\n",
    "                  crop_to=1e6)\n",
    "train_loader, test_loader, dataset_dict = DL.get_dataloaders()\n",
    "          \n",
    "num_epochs = 50\n",
    "\n",
    "lr = 1e-3\n",
    "# SNN CON DELAYS\n",
    "taimu1 = time.time()\n",
    "\n",
    "tau_m = 'normal'\n",
    "ckpt_dir = 'exp3_shd50_rnn' \n",
    "\n",
    "snn = SNN(dataset_dict=dataset_dict, structure=(64, 2), connection_type='mf',\n",
    "    delay=None, delay_type='', tau_m = tau_m,\n",
    "    win=total_time, loss_fn='mem_sum', batch_size=batch_size, device=device,\n",
    "    debug=False)\n",
    "\n",
    "snn.multi_proj = 3\n",
    "\n",
    "snn.set_network()\n",
    "\n",
    "snn.to(device)"
   ]
  },
  {
   "cell_type": "code",
   "execution_count": 2,
   "metadata": {},
   "outputs": [
    {
     "ename": "RuntimeError",
     "evalue": "The size of tensor a (64) must match the size of tensor b (192) at non-singleton dimension 1",
     "output_type": "error",
     "traceback": [
      "\u001b[1;31m---------------------------------------------------------------------------\u001b[0m",
      "\u001b[1;31mRuntimeError\u001b[0m                              Traceback (most recent call last)",
      "Cell \u001b[1;32mIn[2], line 1\u001b[0m\n\u001b[1;32m----> 1\u001b[0m a, b \u001b[38;5;241m=\u001b[39m snn\u001b[38;5;241m.\u001b[39mtest(test_loader, only_one_batch\u001b[38;5;241m=\u001b[39m\u001b[38;5;28;01mTrue\u001b[39;00m)\n",
      "File \u001b[1;32m~\\Python\\SNNdelays\\snn_delays\\snn.py:280\u001b[0m, in \u001b[0;36mTraining.test\u001b[1;34m(self, test_loader, dropout, only_one_batch)\u001b[0m\n\u001b[0;32m    278\u001b[0m     \u001b[38;5;28;01mwith\u001b[39;00m amp\u001b[38;5;241m.\u001b[39mautocast(enabled\u001b[38;5;241m=\u001b[39m\u001b[38;5;28mself\u001b[39m\u001b[38;5;241m.\u001b[39muse_amp):\n\u001b[0;32m    279\u001b[0m         \u001b[38;5;28mself\u001b[39m\u001b[38;5;241m.\u001b[39meval()\n\u001b[1;32m--> 280\u001b[0m         outputs, reference \u001b[38;5;241m=\u001b[39m \u001b[38;5;28mself\u001b[39m\u001b[38;5;241m.\u001b[39mpropagate(images, labels)\n\u001b[0;32m    281\u001b[0m         \u001b[38;5;28mself\u001b[39m\u001b[38;5;241m.\u001b[39mtrain()\n\u001b[0;32m    283\u001b[0m \u001b[38;5;66;03m# crop results to the labels size (for incomplete batch)\u001b[39;00m\n",
      "File \u001b[1;32m~\\Python\\SNNdelays\\snn_delays\\snn.py:125\u001b[0m, in \u001b[0;36mTraining.propagate\u001b[1;34m(self, images, labels)\u001b[0m\n\u001b[0;32m    121\u001b[0m labels \u001b[38;5;241m=\u001b[39m labels\u001b[38;5;241m.\u001b[39mfloat()\u001b[38;5;241m.\u001b[39msqueeze()\u001b[38;5;241m.\u001b[39mto(\u001b[38;5;28mself\u001b[39m\u001b[38;5;241m.\u001b[39mdevice)\n\u001b[0;32m    123\u001b[0m l_f \u001b[38;5;241m=\u001b[39m \u001b[38;5;28mself\u001b[39m\u001b[38;5;241m.\u001b[39mloss_fn\n\u001b[1;32m--> 125\u001b[0m all_o_mems, all_o_spikes \u001b[38;5;241m=\u001b[39m \u001b[38;5;28mself\u001b[39m(images)\n\u001b[0;32m    127\u001b[0m \u001b[38;5;28;01mif\u001b[39;00m l_f \u001b[38;5;241m==\u001b[39m \u001b[38;5;124m'\u001b[39m\u001b[38;5;124mmem_last\u001b[39m\u001b[38;5;124m'\u001b[39m:\n\u001b[0;32m    128\u001b[0m     _, labels \u001b[38;5;241m=\u001b[39m torch\u001b[38;5;241m.\u001b[39mmax(labels\u001b[38;5;241m.\u001b[39mdata, \u001b[38;5;241m1\u001b[39m)\n",
      "File \u001b[1;32mc:\\Users\\Alberto\\anaconda3\\envs\\deepsnn\\Lib\\site-packages\\torch\\nn\\modules\\module.py:1511\u001b[0m, in \u001b[0;36mModule._wrapped_call_impl\u001b[1;34m(self, *args, **kwargs)\u001b[0m\n\u001b[0;32m   1509\u001b[0m     \u001b[38;5;28;01mreturn\u001b[39;00m \u001b[38;5;28mself\u001b[39m\u001b[38;5;241m.\u001b[39m_compiled_call_impl(\u001b[38;5;241m*\u001b[39margs, \u001b[38;5;241m*\u001b[39m\u001b[38;5;241m*\u001b[39mkwargs)  \u001b[38;5;66;03m# type: ignore[misc]\u001b[39;00m\n\u001b[0;32m   1510\u001b[0m \u001b[38;5;28;01melse\u001b[39;00m:\n\u001b[1;32m-> 1511\u001b[0m     \u001b[38;5;28;01mreturn\u001b[39;00m \u001b[38;5;28mself\u001b[39m\u001b[38;5;241m.\u001b[39m_call_impl(\u001b[38;5;241m*\u001b[39margs, \u001b[38;5;241m*\u001b[39m\u001b[38;5;241m*\u001b[39mkwargs)\n",
      "File \u001b[1;32mc:\\Users\\Alberto\\anaconda3\\envs\\deepsnn\\Lib\\site-packages\\torch\\nn\\modules\\module.py:1520\u001b[0m, in \u001b[0;36mModule._call_impl\u001b[1;34m(self, *args, **kwargs)\u001b[0m\n\u001b[0;32m   1515\u001b[0m \u001b[38;5;66;03m# If we don't have any hooks, we want to skip the rest of the logic in\u001b[39;00m\n\u001b[0;32m   1516\u001b[0m \u001b[38;5;66;03m# this function, and just call forward.\u001b[39;00m\n\u001b[0;32m   1517\u001b[0m \u001b[38;5;28;01mif\u001b[39;00m \u001b[38;5;129;01mnot\u001b[39;00m (\u001b[38;5;28mself\u001b[39m\u001b[38;5;241m.\u001b[39m_backward_hooks \u001b[38;5;129;01mor\u001b[39;00m \u001b[38;5;28mself\u001b[39m\u001b[38;5;241m.\u001b[39m_backward_pre_hooks \u001b[38;5;129;01mor\u001b[39;00m \u001b[38;5;28mself\u001b[39m\u001b[38;5;241m.\u001b[39m_forward_hooks \u001b[38;5;129;01mor\u001b[39;00m \u001b[38;5;28mself\u001b[39m\u001b[38;5;241m.\u001b[39m_forward_pre_hooks\n\u001b[0;32m   1518\u001b[0m         \u001b[38;5;129;01mor\u001b[39;00m _global_backward_pre_hooks \u001b[38;5;129;01mor\u001b[39;00m _global_backward_hooks\n\u001b[0;32m   1519\u001b[0m         \u001b[38;5;129;01mor\u001b[39;00m _global_forward_hooks \u001b[38;5;129;01mor\u001b[39;00m _global_forward_pre_hooks):\n\u001b[1;32m-> 1520\u001b[0m     \u001b[38;5;28;01mreturn\u001b[39;00m forward_call(\u001b[38;5;241m*\u001b[39margs, \u001b[38;5;241m*\u001b[39m\u001b[38;5;241m*\u001b[39mkwargs)\n\u001b[0;32m   1522\u001b[0m \u001b[38;5;28;01mtry\u001b[39;00m:\n\u001b[0;32m   1523\u001b[0m     result \u001b[38;5;241m=\u001b[39m \u001b[38;5;28;01mNone\u001b[39;00m\n",
      "File \u001b[1;32m~\\Python\\SNNdelays\\snn_delays\\snn.py:1046\u001b[0m, in \u001b[0;36mSNN.forward\u001b[1;34m(self, input)\u001b[0m\n\u001b[0;32m   1043\u001b[0m \u001b[38;5;28;01melse\u001b[39;00m:\n\u001b[0;32m   1044\u001b[0m     r_ext_spk \u001b[38;5;241m=\u001b[39m spikes[layer]\n\u001b[1;32m-> 1046\u001b[0m mems[layer], spikes[layer] \u001b[38;5;241m=\u001b[39m \u001b[38;5;28mself\u001b[39m\u001b[38;5;241m.\u001b[39mupdate_mem_fn(\n\u001b[0;32m   1047\u001b[0m     prev_spikes\u001b[38;5;241m.\u001b[39mreshape(\u001b[38;5;28mself\u001b[39m\u001b[38;5;241m.\u001b[39mbatch_size, \u001b[38;5;241m-\u001b[39m\u001b[38;5;241m1\u001b[39m), spikes[layer], mems[layer], \u001b[38;5;28mself\u001b[39m\u001b[38;5;241m.\u001b[39mthresh, r_ext_spk)\n\u001b[0;32m   1049\u001b[0m \u001b[38;5;28;01mif\u001b[39;00m \u001b[38;5;124m'\u001b[39m\u001b[38;5;124mh\u001b[39m\u001b[38;5;124m'\u001b[39m \u001b[38;5;129;01min\u001b[39;00m \u001b[38;5;28mself\u001b[39m\u001b[38;5;241m.\u001b[39mdelay_type:\n\u001b[0;32m   1050\u001b[0m     extended_spikes[layer][:, step\u001b[38;5;241m+\u001b[39m\u001b[38;5;28mself\u001b[39m\u001b[38;5;241m.\u001b[39mmax_d,\n\u001b[0;32m   1051\u001b[0m                         :] \u001b[38;5;241m=\u001b[39m spikes[layer]\u001b[38;5;241m.\u001b[39mclone()  \u001b[38;5;66;03m# possibly detach()\u001b[39;00m\n",
      "File \u001b[1;32m~\\Python\\SNNdelays\\snn_delays\\snn.py:933\u001b[0m, in \u001b[0;36mSNN.update_mem_multi_proj\u001b[1;34m(self, i_spike, o_spike, mem, thresh, _)\u001b[0m\n\u001b[0;32m    928\u001b[0m alpha \u001b[38;5;241m=\u001b[39m \u001b[38;5;28mself\u001b[39m\u001b[38;5;241m.\u001b[39malpha_fn(\u001b[38;5;28mself\u001b[39m\u001b[38;5;241m.\u001b[39mtau_m_h[\u001b[38;5;28mself\u001b[39m\u001b[38;5;241m.\u001b[39mtau_idx])\u001b[38;5;241m.\u001b[39mto(\u001b[38;5;28mself\u001b[39m\u001b[38;5;241m.\u001b[39mdevice)\n\u001b[0;32m    929\u001b[0m \u001b[38;5;66;03m#alpha = torch.exp(-1. / self.tau_m_h[self.tau_idx]).to(self.device)\u001b[39;00m\n\u001b[0;32m    930\u001b[0m \n\u001b[0;32m    931\u001b[0m \n\u001b[0;32m    932\u001b[0m \u001b[38;5;66;03m# Calculate the new membrane potential and output spike\u001b[39;00m\n\u001b[1;32m--> 933\u001b[0m mem \u001b[38;5;241m=\u001b[39m mem \u001b[38;5;241m*\u001b[39m alpha \u001b[38;5;241m*\u001b[39m (\u001b[38;5;241m1\u001b[39m \u001b[38;5;241m-\u001b[39m o_spike) \u001b[38;5;241m+\u001b[39m \u001b[38;5;28mself\u001b[39m\u001b[38;5;241m.\u001b[39mh_layers[\u001b[38;5;28mself\u001b[39m\u001b[38;5;241m.\u001b[39mw_idx](i_spike\u001b[38;5;241m.\u001b[39mrepeat(\u001b[38;5;241m1\u001b[39m, \u001b[38;5;28mself\u001b[39m\u001b[38;5;241m.\u001b[39mmulti_proj))\n\u001b[0;32m    935\u001b[0m \u001b[38;5;28mprint\u001b[39m(i_spike\u001b[38;5;241m.\u001b[39mshape)\n\u001b[0;32m    937\u001b[0m \u001b[38;5;66;03m# o_spike = self.act_fun(mem-thresh)\u001b[39;00m\n\u001b[0;32m    938\u001b[0m \u001b[38;5;66;03m# mem = mem*(mem < self.th_reset)    \u001b[39;00m\n\u001b[0;32m    939\u001b[0m \n\u001b[0;32m    940\u001b[0m \u001b[38;5;66;03m# Update attributes\u001b[39;00m\n",
      "\u001b[1;31mRuntimeError\u001b[0m: The size of tensor a (64) must match the size of tensor b (192) at non-singleton dimension 1"
     ]
    }
   ],
   "source": [
    "a, b = snn.test(test_loader, only_one_batch=True)"
   ]
  },
  {
   "cell_type": "code",
   "execution_count": 2,
   "metadata": {},
   "outputs": [
    {
     "data": {
      "text/plain": [
       "torch.Size([64, 192])"
      ]
     },
     "execution_count": 2,
     "metadata": {},
     "output_type": "execute_result"
    }
   ],
   "source": [
    "snn.f1_f2.weight.shape"
   ]
  },
  {
   "cell_type": "code",
   "execution_count": 10,
   "metadata": {},
   "outputs": [
    {
     "name": "stdout",
     "output_type": "stream",
     "text": [
      "torch.Size([1024, 192])\n",
      "torch.Size([1024, 192])\n"
     ]
    }
   ],
   "source": [
    "x = torch.rand(1024, 64)\n",
    "print(x.repeat(1, 3).shape)\n",
    "print(x.repeat(1, 3).view(1024, -1).shape)"
   ]
  },
  {
   "cell_type": "code",
   "execution_count": 14,
   "metadata": {},
   "outputs": [
    {
     "data": {
      "text/plain": [
       "tensor([[0.6131, 0.1452, 0.7860, 0.9258],\n",
       "        [0.0528, 0.9084, 0.4363, 0.9647],\n",
       "        [0.1770, 0.9467, 0.0742, 0.7290],\n",
       "        [0.0121, 0.6393, 0.0876, 0.3102],\n",
       "        [0.8581, 0.3634, 0.9454, 0.9337],\n",
       "        [0.5624, 0.9277, 0.4248, 0.9033],\n",
       "        [0.9952, 0.3456, 0.8911, 0.0317],\n",
       "        [0.9378, 0.7023, 0.0194, 0.6718],\n",
       "        [0.4343, 0.8132, 0.6807, 0.2210],\n",
       "        [0.7399, 0.4589, 0.8210, 0.1687]])"
      ]
     },
     "execution_count": 14,
     "metadata": {},
     "output_type": "execute_result"
    }
   ],
   "source": [
    "x = torch.rand(10, 4)\n",
    "x"
   ]
  },
  {
   "cell_type": "code",
   "execution_count": 15,
   "metadata": {},
   "outputs": [
    {
     "data": {
      "text/plain": [
       "tensor([[0.6131, 0.1452, 0.7860, 0.9258, 0.6131, 0.1452, 0.7860, 0.9258, 0.6131,\n",
       "         0.1452, 0.7860, 0.9258],\n",
       "        [0.0528, 0.9084, 0.4363, 0.9647, 0.0528, 0.9084, 0.4363, 0.9647, 0.0528,\n",
       "         0.9084, 0.4363, 0.9647],\n",
       "        [0.1770, 0.9467, 0.0742, 0.7290, 0.1770, 0.9467, 0.0742, 0.7290, 0.1770,\n",
       "         0.9467, 0.0742, 0.7290],\n",
       "        [0.0121, 0.6393, 0.0876, 0.3102, 0.0121, 0.6393, 0.0876, 0.3102, 0.0121,\n",
       "         0.6393, 0.0876, 0.3102],\n",
       "        [0.8581, 0.3634, 0.9454, 0.9337, 0.8581, 0.3634, 0.9454, 0.9337, 0.8581,\n",
       "         0.3634, 0.9454, 0.9337],\n",
       "        [0.5624, 0.9277, 0.4248, 0.9033, 0.5624, 0.9277, 0.4248, 0.9033, 0.5624,\n",
       "         0.9277, 0.4248, 0.9033],\n",
       "        [0.9952, 0.3456, 0.8911, 0.0317, 0.9952, 0.3456, 0.8911, 0.0317, 0.9952,\n",
       "         0.3456, 0.8911, 0.0317],\n",
       "        [0.9378, 0.7023, 0.0194, 0.6718, 0.9378, 0.7023, 0.0194, 0.6718, 0.9378,\n",
       "         0.7023, 0.0194, 0.6718],\n",
       "        [0.4343, 0.8132, 0.6807, 0.2210, 0.4343, 0.8132, 0.6807, 0.2210, 0.4343,\n",
       "         0.8132, 0.6807, 0.2210],\n",
       "        [0.7399, 0.4589, 0.8210, 0.1687, 0.7399, 0.4589, 0.8210, 0.1687, 0.7399,\n",
       "         0.4589, 0.8210, 0.1687]])"
      ]
     },
     "execution_count": 15,
     "metadata": {},
     "output_type": "execute_result"
    }
   ],
   "source": [
    "x.repeat(1, 3)"
   ]
  }
 ],
 "metadata": {
  "kernelspec": {
   "display_name": "deepsnn",
   "language": "python",
   "name": "python3"
  },
  "language_info": {
   "codemirror_mode": {
    "name": "ipython",
    "version": 3
   },
   "file_extension": ".py",
   "mimetype": "text/x-python",
   "name": "python",
   "nbconvert_exporter": "python",
   "pygments_lexer": "ipython3",
   "version": "3.12.1"
  }
 },
 "nbformat": 4,
 "nbformat_minor": 2
}
