{
 "cells": [
  {
   "cell_type": "code",
   "execution_count": 1,
   "metadata": {},
   "outputs": [
    {
     "name": "stderr",
     "output_type": "stream",
     "text": [
      "c:\\Users\\Alberto\\anaconda3\\envs\\deepsnn\\Lib\\site-packages\\tqdm\\auto.py:21: TqdmWarning: IProgress not found. Please update jupyter and ipywidgets. See https://ipywidgets.readthedocs.io/en/stable/user_install.html\n",
      "  from .autonotebook import tqdm as notebook_tqdm\n"
     ]
    },
    {
     "name": "stdout",
     "output_type": "stream",
     "text": [
      "Running on: cuda:0\n"
     ]
    },
    {
     "data": {
      "text/plain": [
       "<torch._C.Generator at 0x196a2be0970>"
      ]
     },
     "execution_count": 1,
     "metadata": {},
     "output_type": "execute_result"
    }
   ],
   "source": [
    "import torch\n",
    "from snn_delays.snn import SNN\n",
    "from snn_delays.experimental_models.snn_binary import BinarySNN\n",
    "from snn_delays.utils.dataset_loader import DatasetLoader\n",
    "from snn_delays.utils.model_loader import ModelLoader\n",
    "from snn_delays.utils.train_utils import train, get_device, propagate_batch\n",
    "from snn_delays.utils.visualization_utils import plot_raster\n",
    "from snn_delays.utils.test_behavior import tb_save_max_last_acc\n",
    "import matplotlib.pyplot as plt\n",
    "\n",
    "device = get_device()\n",
    "\n",
    "# For reproducibility\n",
    "torch.manual_seed(10)"
   ]
  },
  {
   "cell_type": "code",
   "execution_count": 2,
   "metadata": {},
   "outputs": [
    {
     "name": "stdout",
     "output_type": "stream",
     "text": [
      "[ToFrame(sensor_size=(10, 10, 2), time_window=None, event_count=None, n_time_bins=50, n_event_bins=None, overlap=0, include_incomplete=False)]\n"
     ]
    }
   ],
   "source": [
    "### DATASET\n",
    "\n",
    "# Parameters\n",
    "dataset = 'stmnist'\n",
    "total_time = 50\n",
    "batch_size = 1024\n",
    "\n",
    "# Resized dataloader\n",
    "# DATASET\n",
    "DL = DatasetLoader(dataset=dataset,\n",
    "                   caching='memory',\n",
    "                   num_workers=0,\n",
    "                   batch_size=batch_size,\n",
    "                   total_time=total_time)\n",
    "\n",
    "train_loader, test_loader, dataset_dict = DL.get_dataloaders()"
   ]
  },
  {
   "cell_type": "code",
   "execution_count": null,
   "metadata": {},
   "outputs": [],
   "source": [
    "structure = (64, 1) # model 3 49%\n",
    "\n",
    "dataset_dict[\"time_ms\"] = 2e3\n",
    "\n",
    "loss_fn='spk_count'\n",
    "#loss_fn = 'mem_sum'\n",
    "\n",
    "snn = SNN(dataset_dict=dataset_dict, structure=structure, connection_type='f',\n",
    "          delay=None, delay_type='', tau_m='normal',\n",
    "          reset_to_zero=True, win=total_time,\n",
    "          loss_fn=loss_fn, batch_size=batch_size, device=device,\n",
    "          debug=True)\n",
    "snn.input2spike_th = None\n",
    "\n",
    "snn.to(device)\n",
    "\n",
    "snn.model_name = 'full_weights_' + snn.model_name\n",
    "\n",
    "num_epochs = 100\n",
    "lr = 1e-3\n",
    "ckpt_dir = 'exp_snn2chip'\n",
    "\n",
    "train(snn, train_loader, test_loader, lr, num_epochs, dropout=0.0, \n",
    "    test_behavior=tb_save_max_last_acc, ckpt_dir=ckpt_dir, scheduler=(10, 0.95), test_every=1, freeze_taus=True)"
   ]
  }
 ],
 "metadata": {
  "kernelspec": {
   "display_name": "deepsnn",
   "language": "python",
   "name": "python3"
  },
  "language_info": {
   "codemirror_mode": {
    "name": "ipython",
    "version": 3
   },
   "file_extension": ".py",
   "mimetype": "text/x-python",
   "name": "python",
   "nbconvert_exporter": "python",
   "pygments_lexer": "ipython3",
   "version": "3.12.1"
  }
 },
 "nbformat": 4,
 "nbformat_minor": 2
}
