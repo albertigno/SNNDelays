{
 "cells": [
  {
   "cell_type": "code",
   "execution_count": 1,
   "id": "09e445bc",
   "metadata": {},
   "outputs": [
    {
     "name": "stdout",
     "output_type": "stream",
     "text": [
      "Running on: cuda:0\n",
      "[CenterCrop(sensor_size=(240, 180, 2), size=(128, 128)), Downsample(time_factor=1, spatial_factor=0.25, sensor_size=None, target_size=None), ToFrame(sensor_size=(32, 32, 2), time_window=None, event_count=None, n_time_bins=250, n_event_bins=None, overlap=0, include_incomplete=False)]\n"
     ]
    }
   ],
   "source": [
    "import dv_processing as dv\n",
    "from snn_delays.snn_refactored import SNN\n",
    "from snn_delays.utils.dataset_loader import DatasetLoader\n",
    "from snn_delays.utils.train_utils_refact_minimal import train, get_device, propagate_batch_simple\n",
    "from snn_delays.utils.test_behavior import tb_save_max_acc_refac\n",
    "\n",
    "device = get_device()\n",
    "dataset = 'davis'\n",
    "total_time = 250\n",
    "batch_size = 5\n",
    "folder_name = 'ABCXO_joined_one_sample'\n",
    "\n",
    "#folder_name = 'ABCXO_one_sample'\n",
    "\n",
    "# DATASET\n",
    "DL = DatasetLoader(dataset=dataset,\n",
    "                  caching='memory',\n",
    "                  num_workers=0,\n",
    "                  batch_size=batch_size,\n",
    "                  total_time=total_time,\n",
    "                  #sensor_size_to = 45,\n",
    "                  sensor_size_to = 32,\n",
    "                  folder_name = folder_name)\n",
    "train_loader, test_loader, dataset_dict = DL.get_dataloaders()\n"
   ]
  },
  {
   "cell_type": "code",
   "execution_count": 2,
   "id": "0eb0ce1f",
   "metadata": {},
   "outputs": [
    {
     "name": "stdout",
     "output_type": "stream",
     "text": [
      "Delta t: 1.0 ms\n",
      "Delta t: 1.0 ms\n",
      "Delta t: 1.0 ms\n"
     ]
    },
    {
     "data": {
      "text/plain": [
       "SNN(\n",
       "  (criterion): MSELoss()\n",
       "  (layers): ModuleList(\n",
       "    (0): FeedforwardSNNLayer(\n",
       "      (linear): Linear(in_features=2048, out_features=24, bias=False)\n",
       "    )\n",
       "    (1): FeedforwardSNNLayer(\n",
       "      (linear): Linear(in_features=24, out_features=24, bias=False)\n",
       "    )\n",
       "    (2): FeedforwardSNNLayer(\n",
       "      (linear): Linear(in_features=24, out_features=5, bias=False)\n",
       "    )\n",
       "  )\n",
       ")"
      ]
     },
     "execution_count": 2,
     "metadata": {},
     "output_type": "execute_result"
    }
   ],
   "source": [
    "dataset_dict['time_ms'] = 250\n",
    "\n",
    "structure = (24, 2, 'f')\n",
    "\n",
    "extra_kwargs = {}\n",
    "\n",
    "snn = SNN(dataset_dict=dataset_dict, structure=structure, tau_m=50.0, win=total_time, loss_fn='spk_count', batch_size=batch_size, device=device, \n",
    "          **extra_kwargs)\n",
    "# snn.input2spike_th = 0.5\n",
    "snn.set_layers()\n",
    "snn.to(device)"
   ]
  },
  {
   "cell_type": "code",
   "execution_count": 3,
   "id": "15f983bf",
   "metadata": {},
   "outputs": [
    {
     "name": "stdout",
     "output_type": "stream",
     "text": [
      "1\n",
      "Test Loss: 0.20392000675201416\n",
      "Avg spk_count per neuron for all 250 time-steps 525.5\n",
      "Test Accuracy of the model on the test samples: 0.000\n",
      "\n"
     ]
    }
   ],
   "source": [
    "snn.debug = True\n",
    "snn.init_state_logger()\n",
    "a, b = snn.test(test_loader)"
   ]
  },
  {
   "cell_type": "code",
   "execution_count": 4,
   "id": "97eb4c2b",
   "metadata": {},
   "outputs": [
    {
     "data": {
      "text/plain": [
       "dict_keys(['input', 'l1', 'l2', 'output'])"
      ]
     },
     "execution_count": 4,
     "metadata": {},
     "output_type": "execute_result"
    }
   ],
   "source": [
    "snn.spike_state.keys()"
   ]
  },
  {
   "cell_type": "code",
   "execution_count": 5,
   "id": "fe01b995",
   "metadata": {},
   "outputs": [],
   "source": [
    "i_spikes = snn.spike_state['input'].detach().cpu().numpy()"
   ]
  },
  {
   "cell_type": "code",
   "execution_count": 6,
   "id": "a53010b0",
   "metadata": {},
   "outputs": [
    {
     "data": {
      "application/vnd.jupyter.widget-view+json": {
       "model_id": "8e8eafbc74e847119201043ec7d87188",
       "version_major": 2,
       "version_minor": 0
      },
      "text/plain": [
       "interactive(children=(IntSlider(value=75, description='Time Index', max=249), Output()), _dom_classes=('widget…"
      ]
     },
     "metadata": {},
     "output_type": "display_data"
    },
    {
     "data": {
      "text/plain": [
       "<function __main__.plot_spikes(t_index)>"
      ]
     },
     "execution_count": 6,
     "metadata": {},
     "output_type": "execute_result"
    }
   ],
   "source": [
    "import matplotlib.pyplot as plt\n",
    "import numpy as np\n",
    "import ipywidgets as widgets\n",
    "from IPython.display import display\n",
    "\n",
    "def plot_spikes(t_index):\n",
    "    for x in range(1):\n",
    "        plt.figure(figsize=(10, 5))\n",
    "        plt.subplot(121)\n",
    "        plt.imshow(i_spikes[t_index, x, 32*32:].reshape(32, 32), aspect='auto')\n",
    "        plt.title(f'Time {t_index}, Batch {x}, Part 1')\n",
    "        plt.subplot(122)\n",
    "        plt.imshow(i_spikes[t_index, x, :32*32].reshape(32, 32), aspect='auto')\n",
    "        plt.title(f'Time {t_index}, Batch {x}, Part 2')\n",
    "\n",
    "        plt.figure(figsize=(10, 10))\n",
    "        plt.imshow(i_spikes[:, x, :].T, aspect='auto')\n",
    "        plt.title(f'Full Time Series, Batch {x}')\n",
    "        plt.show()\n",
    "\n",
    "slider = widgets.IntSlider(min=0, max=i_spikes.shape[0]-1, step=1, value=75, description='Time Index')\n",
    "widgets.interact(plot_spikes, t_index=slider)\n",
    "\n",
    "# for x in range(batch_size):\n",
    "\n",
    "#     plt.figure(figsize=(10, 5))\n",
    "#     plt.subplot(121)\n",
    "#     plt.imshow(i_spikes[75, x, :32*32].reshape(32, 32), aspect='auto')\n",
    "#     plt.subplot(122)\n",
    "#     plt.imshow(i_spikes[75, x, 32*32:].reshape(32, 32), aspect='auto')\n",
    "\n",
    "#     plt.figure(figsize=(10, 10))\n",
    "#     plt.imshow(i_spikes[:, x, :].T, aspect='auto')"
   ]
  },
  {
   "cell_type": "code",
   "execution_count": 7,
   "id": "baa47489",
   "metadata": {},
   "outputs": [
    {
     "data": {
      "text/plain": [
       "[<matplotlib.lines.Line2D at 0x28385604340>]"
      ]
     },
     "execution_count": 7,
     "metadata": {},
     "output_type": "execute_result"
    },
    {
     "data": {
      "image/png": "[encoded data removed]",
      "text/plain": [
       "<Figure size 640x480 with 1 Axes>"
      ]
     },
     "metadata": {},
     "output_type": "display_data"
    }
   ],
   "source": [
    "plt.plot(i_spikes[:, 0, :].sum(axis=1))"
   ]
  },
  {
   "cell_type": "code",
   "execution_count": 8,
   "id": "6297a132",
   "metadata": {},
   "outputs": [
    {
     "data": {
      "text/plain": [
       "[<matplotlib.lines.Line2D at 0x283856684c0>]"
      ]
     },
     "execution_count": 8,
     "metadata": {},
     "output_type": "execute_result"
    },
    {
     "data": {
      "image/png": "[encoded data removed]",
      "text/plain": [
       "<Figure size 640x480 with 1 Axes>"
      ]
     },
     "metadata": {},
     "output_type": "display_data"
    }
   ],
   "source": [
    "plt.plot(i_spikes[:, 0, :].sum(axis=1)[800:2000])"
   ]
  },
  {
   "cell_type": "code",
   "execution_count": null,
   "id": "aaa7cfc1",
   "metadata": {},
   "outputs": [],
   "source": []
  }
 ],
 "metadata": {
  "kernelspec": {
   "display_name": "deeplearning",
   "language": "python",
   "name": "python3"
  },
  "language_info": {
   "codemirror_mode": {
    "name": "ipython",
    "version": 3
   },
   "file_extension": ".py",
   "mimetype": "text/x-python",
   "name": "python",
   "nbconvert_exporter": "python",
   "pygments_lexer": "ipython3",
   "version": "3.8.0"
  }
 },
 "nbformat": 4,
 "nbformat_minor": 5
}
