{
 "cells": [
  {
   "cell_type": "code",
   "execution_count": 1,
   "metadata": {},
   "outputs": [
    {
     "name": "stdout",
     "output_type": "stream",
     "text": [
      "Running on: cuda:0\n"
     ]
    },
    {
     "data": {
      "text/plain": [
       "<torch._C.Generator at 0x26f5a9e6af0>"
      ]
     },
     "execution_count": 1,
     "metadata": {},
     "output_type": "execute_result"
    }
   ],
   "source": [
    "import dv_processing as dv\n",
    "import torch\n",
    "from snn_delays.utils.dataset_loader import DatasetLoader\n",
    "from snn_delays.utils.model_loader_refac import ModelLoader\n",
    "from snn_delays.utils.train_utils_refact_minimal import get_device\n",
    "from snn_delays.utils.hw_aware_utils import quantize_weights\n",
    "from snn_delays.utils.hw_aware_utils import save_weights_delays, save_state\n",
    "import numpy as np\n",
    "import os\n",
    "device = get_device() \n",
    "\n",
    "# For reproducibility\n",
    "torch.manual_seed(10)"
   ]
  },
  {
   "cell_type": "code",
   "execution_count": 2,
   "metadata": {},
   "outputs": [],
   "source": [
    "add_name = '_q8'\n",
    "\n",
    "# ckpt_dir = 'abcxo' # 250, 1e6\n",
    "# model = 'abcxo_f_9233333333333333' #45x45\n",
    "\n",
    "# ckpt_dir = 'abcxo_32' # 250, 1e6\n",
    "# model = 'abcxo_f_9916666666666667' #32x32\n",
    "\n",
    "# ckpt_dir = 'abcxo_32_24' # 250, 1e6\n",
    "# model = 'abcxo_f_9783333333333333'\n",
    "\n",
    "ckpt_dir = 'abcxo_32_24_1ms' # 250, 1e6\n",
    "model = 'abcxo_f_9916666666666667_1ms'"
   ]
  },
  {
   "cell_type": "code",
   "execution_count": 7,
   "metadata": {},
   "outputs": [
    {
     "name": "stdout",
     "output_type": "stream",
     "text": [
      "[CenterCrop(sensor_size=(240, 180, 2), size=(180, 180)), Downsample(time_factor=1, spatial_factor=0.17777777777777778, sensor_size=None, target_size=None), ToFrame(sensor_size=(32, 32, 2), time_window=None, event_count=None, n_time_bins=250, n_event_bins=None, overlap=0, include_incomplete=False)]\n",
      "Delta t: 1.0 ms\n",
      "Delta t: 1.0 ms\n",
      "Delta t: 1.0 ms\n",
      "Instance of <class 'snn_delays.snn_refactored.SNN'> loaded successfully\n"
     ]
    }
   ],
   "source": [
    "dataset = 'davis'\n",
    "#total_time = 50\n",
    "total_time = 250\n",
    "batch_size = 64\n",
    "folder_name = 'ABCXO'\n",
    "size = 32 # or 45\n",
    "\n",
    "# DATASET\n",
    "DL = DatasetLoader(dataset=dataset,\n",
    "                  caching='memory',\n",
    "                  num_workers=0,\n",
    "                  batch_size=batch_size,\n",
    "                  total_time=total_time,\n",
    "                  sensor_size_to = size,\n",
    "                  folder_name = folder_name)\n",
    "train_loader, test_loader, dataset_dict = DL.get_dataloaders()\n",
    "\n",
    "snn = ModelLoader(model, ckpt_dir, batch_size, device) "
   ]
  },
  {
   "cell_type": "code",
   "execution_count": 8,
   "metadata": {},
   "outputs": [
    {
     "name": "stdout",
     "output_type": "stream",
     "text": [
      "600\n",
      "Test Loss: 0.020068619586527347\n",
      "Avg spk_count per neuron for all 250 time-steps 1626.8991666666666\n",
      "Test Accuracy of the model on the test samples: 99.167\n",
      "\n"
     ]
    }
   ],
   "source": [
    "# snn.input2spike_th = 0.5\n",
    "_, __ = snn.test(test_loader)"
   ]
  },
  {
   "cell_type": "code",
   "execution_count": 9,
   "metadata": {},
   "outputs": [],
   "source": [
    "weight_params_names = [name for name, param in snn.named_parameters() if 'linear' in name]"
   ]
  },
  {
   "cell_type": "code",
   "execution_count": 10,
   "metadata": {},
   "outputs": [
    {
     "data": {
      "text/plain": [
       "['layers.0.linear.weight', 'layers.1.linear.weight', 'layers.2.linear.weight']"
      ]
     },
     "execution_count": 10,
     "metadata": {},
     "output_type": "execute_result"
    }
   ],
   "source": [
    "weight_params_names"
   ]
  },
  {
   "cell_type": "code",
   "execution_count": 11,
   "metadata": {},
   "outputs": [
    {
     "data": {
      "text/plain": [
       "Parameter containing:\n",
       "tensor([[ 0.0331,  0.0207,  0.0469,  ..., -0.0079, -0.0011, -0.0189],\n",
       "        [ 0.0152,  0.0225,  0.0264,  ...,  0.0058, -0.0118, -0.0323],\n",
       "        [ 0.0110, -0.0089,  0.0222,  ...,  0.0069,  0.0196,  0.0244],\n",
       "        ...,\n",
       "        [ 0.0254,  0.0212,  0.0080,  ...,  0.0065, -0.0136, -0.0001],\n",
       "        [-0.0187,  0.0206,  0.0074,  ...,  0.0166, -0.0123, -0.0105],\n",
       "        [ 0.0153,  0.0083,  0.0165,  ..., -0.0168,  0.0144,  0.0143]],\n",
       "       device='cuda:0', requires_grad=True)"
      ]
     },
     "execution_count": 11,
     "metadata": {},
     "output_type": "execute_result"
    }
   ],
   "source": [
    "def getattr_dotted(obj, attr_str):\n",
    "    for attr in attr_str.split('.'):\n",
    "        obj = getattr(obj, attr)\n",
    "    return obj\n",
    "getattr_dotted(snn, weight_params_names[0])"
   ]
  },
  {
   "cell_type": "markdown",
   "metadata": {},
   "source": [
    "### Weight quantization"
   ]
  },
  {
   "cell_type": "code",
   "execution_count": 12,
   "metadata": {},
   "outputs": [
    {
     "name": "stdout",
     "output_type": "stream",
     "text": [
      "----layers.0.linear.weight----\n",
      "n_unique before quantization: 49139, 26902 pos 22237 neg\n",
      "max_value before quantization: 0.12184841930866241\n",
      "n_unique after quantization: 218, 111 pos 106 neg\n",
      "max_value after quantization: 0.12089648097753525, delta_w: 0.0009519407758489251\n",
      "----layers.1.linear.weight----\n",
      "n_unique before quantization: 576, 287 pos 289 neg\n",
      "max_value before quantization: 0.43425169587135315\n",
      "n_unique after quantization: 177, 85 pos 91 neg\n",
      "max_value after quantization: 0.43085911870002747, delta_w: 0.0033925913739949465\n",
      "----layers.2.linear.weight----\n",
      "n_unique before quantization: 120, 58 pos 62 neg\n",
      "max_value before quantization: 0.64223712682724\n",
      "n_unique after quantization: 89, 41 pos 47 neg\n",
      "max_value after quantization: 0.6372196674346924, delta_w: 0.01505243219435215\n",
      "600\n",
      "Test Loss: 0.01919847009703517\n",
      "Avg spk_count per neuron for all 250 time-steps 1626.8991666666666\n",
      "Test Accuracy of the model on the test samples: 99.167\n",
      "\n"
     ]
    }
   ],
   "source": [
    "quantize_weights(snn, 8, last_layer=True, symmetry=True, print_info=True)\n",
    "_, __ = snn.test(test_loader)"
   ]
  },
  {
   "cell_type": "code",
   "execution_count": 13,
   "metadata": {},
   "outputs": [
    {
     "data": {
      "text/plain": [
       "<AxesSubplot:>"
      ]
     },
     "execution_count": 13,
     "metadata": {},
     "output_type": "execute_result"
    },
    {
     "data": {
      "image/png": "[encoded data removed]",
      "text/plain": [
       "<Figure size 640x480 with 1 Axes>"
      ]
     },
     "metadata": {},
     "output_type": "display_data"
    }
   ],
   "source": [
    "import matplotlib.pyplot as plt\n",
    "from snn_delays.utils.visualization_utils import plot_param\n",
    "plt.subplot(311)\n",
    "plot_param(snn.layers[0].linear, 'histogram_nonzero')\n",
    "# plt.subplot(312)\n",
    "# plot_param(snn.f1_o, 'histogram_nonzero')\n",
    "# plt.subplot(313)\n",
    "# plot_param(snn.f2_o, 'histogram_nonzero')"
   ]
  },
  {
   "cell_type": "markdown",
   "metadata": {},
   "source": [
    "### Save weights, delays, spikes and mems"
   ]
  },
  {
   "cell_type": "code",
   "execution_count": 14,
   "metadata": {},
   "outputs": [
    {
     "name": "stdout",
     "output_type": "stream",
     "text": [
      "no delays in this network. setting all delays to zero.\n",
      "no delays in this network. setting all delays to zero.\n",
      "no delays in this network. setting all delays to zero.\n",
      "Weights and delays saved in  C:\\Users\\Alberto\\OneDrive - UNIVERSIDAD DE SEVILLA\\PythonData\\Checkpoints\\abcxo_32_24_1ms\\weights_abcxo_f_9916666666666667_1ms_q8\n"
     ]
    }
   ],
   "source": [
    "ckpt_dir_2 = 'weights_' + model + add_name\n",
    "save_path = os.path.join(\n",
    "    os.environ.get('SNN_CHECKPOINTS_PATH'), ckpt_dir, ckpt_dir_2)\n",
    "\n",
    "save_weights_delays(snn, path=save_path)"
   ]
  },
  {
   "cell_type": "code",
   "execution_count": null,
   "metadata": {},
   "outputs": [],
   "source": []
  }
 ],
 "metadata": {
  "kernelspec": {
   "display_name": "deeplearning",
   "language": "python",
   "name": "python3"
  },
  "language_info": {
   "codemirror_mode": {
    "name": "ipython",
    "version": 3
   },
   "file_extension": ".py",
   "mimetype": "text/x-python",
   "name": "python",
   "nbconvert_exporter": "python",
   "pygments_lexer": "ipython3",
   "version": "3.8.0"
  }
 },
 "nbformat": 4,
 "nbformat_minor": 2
}
