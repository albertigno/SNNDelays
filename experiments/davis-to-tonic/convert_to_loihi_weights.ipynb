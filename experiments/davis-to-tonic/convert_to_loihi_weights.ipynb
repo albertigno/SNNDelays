{
 "cells": [
  {
   "cell_type": "code",
   "execution_count": 1,
   "metadata": {},
   "outputs": [
    {
     "name": "stdout",
     "output_type": "stream",
     "text": [
      "Running on: cuda:0\n"
     ]
    },
    {
     "data": {
      "text/plain": [
       "<torch._C.Generator at 0x26a7c37bb90>"
      ]
     },
     "execution_count": 1,
     "metadata": {},
     "output_type": "execute_result"
    }
   ],
   "source": [
    "import dv_processing as dv\n",
    "import torch\n",
    "from snn_delays.utils.dataset_loader import DatasetLoader\n",
    "from snn_delays.utils.model_loader_refac import ModelLoader\n",
    "from snn_delays.utils.train_utils_refact_minimal import get_device\n",
    "from snn_delays.utils.hw_aware_utils import quantize_weights\n",
    "from snn_delays.utils.hw_aware_utils import save_weights_delays, save_state\n",
    "import numpy as np\n",
    "import os\n",
    "device = get_device() \n",
    "\n",
    "# For reproducibility\n",
    "torch.manual_seed(10)"
   ]
  },
  {
   "cell_type": "code",
   "execution_count": 2,
   "metadata": {},
   "outputs": [],
   "source": [
    "add_name = '_q8'\n",
    "\n",
    "# ckpt_dir = 'abcxo' # 250, 1e6\n",
    "# model = 'abcxo_f_9233333333333333' #45x45\n",
    "\n",
    "# ckpt_dir = 'abcxo_32' # 250, 1e6\n",
    "# model = 'abcxo_f_9916666666666667' #32x32\n",
    "\n",
    "ckpt_dir = 'abcxo_32_24' # 250, 1e6\n",
    "model = 'abcxo_f_9783333333333333'"
   ]
  },
  {
   "cell_type": "code",
   "execution_count": 3,
   "metadata": {},
   "outputs": [
    {
     "name": "stdout",
     "output_type": "stream",
     "text": [
      "[CenterCrop(sensor_size=(240, 180, 2), size=(180, 180)), Downsample(time_factor=1, spatial_factor=0.17777777777777778, sensor_size=None, target_size=None), ToFrame(sensor_size=(32, 32, 2), time_window=None, event_count=None, n_time_bins=50, n_event_bins=None, overlap=0, include_incomplete=False)]\n",
      "Delta t: 5.0 ms\n",
      "Delta t: 5.0 ms\n",
      "Delta t: 5.0 ms\n",
      "Instance of <class 'snn_delays.snn_refactored.SNN'> loaded successfully\n"
     ]
    }
   ],
   "source": [
    "dataset = 'davis'\n",
    "total_time = 50\n",
    "batch_size = 64\n",
    "folder_name = 'ABCXO'\n",
    "size = 32 # or 45\n",
    "\n",
    "# DATASET\n",
    "DL = DatasetLoader(dataset=dataset,\n",
    "                  caching='memory',\n",
    "                  num_workers=0,\n",
    "                  batch_size=batch_size,\n",
    "                  total_time=total_time,\n",
    "                  sensor_size_to = size,\n",
    "                  folder_name = folder_name)\n",
    "train_loader, test_loader, dataset_dict = DL.get_dataloaders()\n",
    "\n",
    "snn = ModelLoader(model, ckpt_dir, batch_size, device) "
   ]
  },
  {
   "cell_type": "code",
   "execution_count": 4,
   "metadata": {},
   "outputs": [
    {
     "name": "stdout",
     "output_type": "stream",
     "text": [
      "600\n",
      "Test Loss: 0.020447793509811164\n",
      "Avg spk_count per neuron for all 50 time-steps 306.3041666666667\n",
      "Test Accuracy of the model on the test samples: 97.833\n",
      "\n"
     ]
    }
   ],
   "source": [
    "snn.input2spike_th = 0.5\n",
    "_, __ = snn.test(test_loader)"
   ]
  },
  {
   "cell_type": "code",
   "execution_count": 5,
   "metadata": {},
   "outputs": [],
   "source": [
    "weight_params_names = [name for name, param in snn.named_parameters() if 'linear' in name]"
   ]
  },
  {
   "cell_type": "code",
   "execution_count": 6,
   "metadata": {},
   "outputs": [
    {
     "data": {
      "text/plain": [
       "['layers.0.linear.weight', 'layers.1.linear.weight', 'layers.2.linear.weight']"
      ]
     },
     "execution_count": 6,
     "metadata": {},
     "output_type": "execute_result"
    }
   ],
   "source": [
    "weight_params_names"
   ]
  },
  {
   "cell_type": "code",
   "execution_count": 7,
   "metadata": {},
   "outputs": [
    {
     "data": {
      "text/plain": [
       "Parameter containing:\n",
       "tensor([[-1.2082e-02, -1.1724e-02, -1.6690e-02,  ..., -1.3196e-03,\n",
       "         -4.2319e-03,  1.1606e-02],\n",
       "        [-6.0880e-03, -9.7693e-03,  1.3288e-02,  ...,  1.4772e-02,\n",
       "          5.2610e-03,  1.3207e-02],\n",
       "        [ 6.2053e-03,  2.1441e-02,  1.4955e-02,  ...,  3.7887e-04,\n",
       "          9.3093e-03,  1.4188e-03],\n",
       "        ...,\n",
       "        [ 3.0153e-03,  1.3389e-02, -1.0711e-02,  ...,  2.5626e-03,\n",
       "          3.2692e-02,  5.0650e-03],\n",
       "        [-1.7103e-05, -2.9227e-02, -1.4592e-02,  ...,  8.3793e-03,\n",
       "         -6.3815e-03,  1.7210e-02],\n",
       "        [-8.2405e-02,  1.9989e-02, -5.0347e-03,  ..., -3.1631e-02,\n",
       "         -3.7999e-02, -4.0604e-02]], device='cuda:0', requires_grad=True)"
      ]
     },
     "execution_count": 7,
     "metadata": {},
     "output_type": "execute_result"
    }
   ],
   "source": [
    "def getattr_dotted(obj, attr_str):\n",
    "    for attr in attr_str.split('.'):\n",
    "        obj = getattr(obj, attr)\n",
    "    return obj\n",
    "getattr_dotted(snn, weight_params_names[0])"
   ]
  },
  {
   "cell_type": "markdown",
   "metadata": {},
   "source": [
    "### Weight quantization"
   ]
  },
  {
   "cell_type": "code",
   "execution_count": 8,
   "metadata": {},
   "outputs": [
    {
     "name": "stdout",
     "output_type": "stream",
     "text": [
      "----layers.0.linear.weight----\n",
      "n_unique before quantization: 49135, 24236 pos 24899 neg\n",
      "max_value before quantization: 0.1242036372423172\n",
      "n_unique after quantization: 216, 109 pos 106 neg\n",
      "max_value after quantization: 0.12323329597711563, delta_w: 0.0009703409159556031\n",
      "----layers.1.linear.weight----\n",
      "n_unique before quantization: 576, 277 pos 299 neg\n",
      "max_value before quantization: 0.4930714964866638\n",
      "n_unique after quantization: 153, 74 pos 78 neg\n",
      "max_value after quantization: 0.4892193675041199, delta_w: 0.003852121066302061\n",
      "----layers.2.linear.weight----\n",
      "n_unique before quantization: 120, 50 pos 70 neg\n",
      "max_value before quantization: 0.5507662296295166\n",
      "n_unique after quantization: 93, 42 pos 51 neg\n",
      "max_value after quantization: 0.5464633703231812, delta_w: 0.008605722337961197\n",
      "600\n",
      "Test Loss: 0.019840709771960972\n",
      "Avg spk_count per neuron for all 50 time-steps 306.3041666666667\n",
      "Test Accuracy of the model on the test samples: 97.833\n",
      "\n"
     ]
    }
   ],
   "source": [
    "quantize_weights(snn, 8, last_layer=True, symmetry=True, print_info=True)\n",
    "_, __ = snn.test(test_loader)"
   ]
  },
  {
   "cell_type": "code",
   "execution_count": 9,
   "metadata": {},
   "outputs": [
    {
     "data": {
      "text/plain": [
       "<AxesSubplot:>"
      ]
     },
     "execution_count": 9,
     "metadata": {},
     "output_type": "execute_result"
    },
    {
     "data": {
      "image/png": "[encoded data removed]",
      "text/plain": [
       "<Figure size 640x480 with 1 Axes>"
      ]
     },
     "metadata": {},
     "output_type": "display_data"
    }
   ],
   "source": [
    "import matplotlib.pyplot as plt\n",
    "from snn_delays.utils.visualization_utils import plot_param\n",
    "plt.subplot(311)\n",
    "plot_param(snn.layers[0].linear, 'histogram_nonzero')\n",
    "# plt.subplot(312)\n",
    "# plot_param(snn.f1_o, 'histogram_nonzero')\n",
    "# plt.subplot(313)\n",
    "# plot_param(snn.f2_o, 'histogram_nonzero')"
   ]
  },
  {
   "cell_type": "markdown",
   "metadata": {},
   "source": [
    "### Save weights, delays, spikes and mems"
   ]
  },
  {
   "cell_type": "code",
   "execution_count": 10,
   "metadata": {},
   "outputs": [
    {
     "name": "stdout",
     "output_type": "stream",
     "text": [
      "no delays in this network. setting all delays to zero.\n",
      "no delays in this network. setting all delays to zero.\n",
      "no delays in this network. setting all delays to zero.\n",
      "Weights and delays saved in  C:\\Users\\Alberto\\OneDrive - UNIVERSIDAD DE SEVILLA\\PythonData\\Checkpoints\\abcxo_32_24\\weights_abcxo_f_9783333333333333_q8\n"
     ]
    }
   ],
   "source": [
    "ckpt_dir_2 = 'weights_' + model + add_name\n",
    "save_path = os.path.join(\n",
    "    os.environ.get('SNN_CHECKPOINTS_PATH'), ckpt_dir, ckpt_dir_2)\n",
    "\n",
    "save_weights_delays(snn, path=save_path)"
   ]
  },
  {
   "cell_type": "code",
   "execution_count": null,
   "metadata": {},
   "outputs": [],
   "source": []
  }
 ],
 "metadata": {
  "kernelspec": {
   "display_name": "deeplearning",
   "language": "python",
   "name": "python3"
  },
  "language_info": {
   "codemirror_mode": {
    "name": "ipython",
    "version": 3
   },
   "file_extension": ".py",
   "mimetype": "text/x-python",
   "name": "python",
   "nbconvert_exporter": "python",
   "pygments_lexer": "ipython3",
   "version": "3.8.0"
  }
 },
 "nbformat": 4,
 "nbformat_minor": 2
}
