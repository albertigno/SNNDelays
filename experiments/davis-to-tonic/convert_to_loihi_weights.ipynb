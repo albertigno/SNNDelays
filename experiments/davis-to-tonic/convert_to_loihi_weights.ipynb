{
 "cells": [
  {
   "cell_type": "code",
   "execution_count": 1,
   "metadata": {},
   "outputs": [
    {
     "name": "stdout",
     "output_type": "stream",
     "text": [
      "Running on: cuda:0\n"
     ]
    }
   ],
   "source": [
    "import dv_processing as dv\n",
    "import torch\n",
    "from snn_delays.utils.dataset_loader import DatasetLoader\n",
    "from snn_delays.utils.model_loader_refac import ModelLoader\n",
    "from snn_delays.utils.train_utils_refact_minimal import get_device\n",
    "from snn_delays.utils.hw_aware_utils import quantize_weights\n",
    "from snn_delays.utils.hw_aware_utils import save_weights_delays, save_state\n",
    "import numpy as np\n",
    "import os\n",
    "device = get_device() \n",
    "\n",
    "# For reproducibility\n",
    "torch.manual_seed(10)\n",
    "\n",
    "# 25Hz\n",
    "# ckpt_dir = 'abcxo' # 250, 1e6\n",
    "# model = 'abcxo_f_9233333333333333' #45x45\n",
    "\n",
    "# ckpt_dir = 'abcxo_32' # 250, 1e6\n",
    "# model = 'abcxo_f_9916666666666667' #32x32\n",
    "\n",
    "# ckpt_dir = 'abcxo_32_24' # 250, 1e6\n",
    "# model = 'abcxo_f_9783333333333333'\n",
    "\n",
    "# ckpt_dir = 'abcxo_32_24_1ms' # 250, 1e6\n",
    "# model = 'abcxo_f_9916666666666667_1ms'\n",
    "\n",
    "# ckpt_dir = 'abcxo_32_24_1ms_crop128_32' # 250, 1e6\n",
    "# model = 'abcxo_f_980'\n",
    "\n",
    "# #15Hz\n",
    "# ckpt_dir = 'abcxo_32_24_1ms_15Hz' # 250, 1e6\n",
    "# model = 'abcxo_d10_binary_9866666666666667'\n",
    "\n",
    "\n",
    "### loihi data\n",
    "# ckpt_dir = 'abcxo_32_24_15Hz_Loihi' # 250, 1e6\n",
    "# model = 'abcxo_f_9949152542372882'\n",
    "\n",
    "# ckpt_dir = 'abcxo_64_96_1ms_15Hz' # 250, 1e6\n",
    "# model = 'abcxo_f_9711538461538461_max_20epoch' \n",
    "\n",
    "## convolutional\n",
    "# ckpt_dir = 'abcxo_32_Conv_15Hz' # 250, 1e6\n",
    "# model = 'abcxo_conv_32_15Hz_5channel_9711864406779661_max_10epoch'\n",
    "\n",
    "# ckpt_dir = 'abcxo_32_Conv_15Hz' # 100ms \n",
    "# model = 'abcxo_conv_32_15Hz_5channel_v3_9610169491525424_max_10epoch'\n",
    "\n",
    "ckpt_dir = 'abcxo_64_Conv_15Hz' # 100ms \n",
    "model = 'abcxo_conv_64_15Hz_shallow_binary_978021978021978_max_9epoch'"
   ]
  },
  {
   "cell_type": "code",
   "execution_count": 2,
   "metadata": {},
   "outputs": [
    {
     "name": "stdout",
     "output_type": "stream",
     "text": [
      "[Downsample(time_factor=1, spatial_factor=1.0, sensor_size=None, target_size=None), ToFrame(sensor_size=(64, 64, 2), time_window=None, event_count=None, n_time_bins=100, n_event_bins=None, overlap=0, include_incomplete=False)]\n",
      "Delta t: 1.0 ms\n",
      "Instance of <class 'snn_delays.snn_refactored.SNN'> loaded successfully\n"
     ]
    }
   ],
   "source": [
    "# dataset = 'davis'\n",
    "# #total_time = 50\n",
    "# total_time = 250\n",
    "# batch_size = 64\n",
    "# folder_name = 'ABCXO_15Hz'\n",
    "# size = 32 # or 45\n",
    "\n",
    "# # DATASET\n",
    "# DL = DatasetLoader(dataset=dataset,\n",
    "#                   caching='memory',\n",
    "#                   num_workers=0,\n",
    "#                   batch_size=batch_size,\n",
    "#                   total_time=total_time,\n",
    "#                   sensor_size_to = size,\n",
    "#                   folder_name = folder_name)\n",
    "# train_loader, test_loader, dataset_dict = DL.get_dataloaders()\n",
    "\n",
    "dataset = 'davis_loihi'\n",
    "\n",
    "#size = 32\n",
    "size = 64\n",
    "\n",
    "if size == 32:\n",
    "    total_time = 250\n",
    "    batch_size = 64\n",
    "    folder_name = 'FromLoihi_ABCXO'\n",
    "elif size == 64:\n",
    "    total_time = 100\n",
    "    batch_size = 64\n",
    "    folder_name = 'FromLoihi_ABCXO_15Hz_64_robust'\n",
    "\n",
    "# DATASET\n",
    "DL = DatasetLoader(dataset=dataset,\n",
    "                  caching='memory',\n",
    "                  num_workers=0,\n",
    "                  batch_size=batch_size,\n",
    "                  total_time=total_time,\n",
    "                  sensor_size_to=size,\n",
    "                  folder_name = folder_name)\n",
    "train_loader, test_loader, dataset_dict = DL.get_dataloaders()\n",
    "\n",
    "\n",
    "snn = ModelLoader(model, ckpt_dir, batch_size, device) "
   ]
  },
  {
   "cell_type": "code",
   "execution_count": 3,
   "metadata": {},
   "outputs": [
    {
     "name": "stdout",
     "output_type": "stream",
     "text": [
      "1456\n",
      "Test Loss: 0.03677817223512608\n",
      "Avg spk_count per neuron for all 100 time-steps 8442.207188644688\n",
      "Test Accuracy of the model on the test samples: 97.665\n",
      "\n"
     ]
    }
   ],
   "source": [
    "#snn.input2spike_th = 0.5\n",
    "_, __ = snn.test(test_loader)"
   ]
  },
  {
   "cell_type": "code",
   "execution_count": 4,
   "metadata": {},
   "outputs": [],
   "source": [
    "weight_params_names = [name for name, param in snn.named_parameters() if 'linear' in name or 'conv' in name]"
   ]
  },
  {
   "cell_type": "code",
   "execution_count": 5,
   "metadata": {},
   "outputs": [
    {
     "data": {
      "text/plain": [
       "['layers.0.conv.weight', 'layers.2.linear.weight', 'layers.3.linear.weight']"
      ]
     },
     "execution_count": 5,
     "metadata": {},
     "output_type": "execute_result"
    }
   ],
   "source": [
    "weight_params_names"
   ]
  },
  {
   "cell_type": "code",
   "execution_count": 6,
   "metadata": {},
   "outputs": [
    {
     "name": "stdout",
     "output_type": "stream",
     "text": [
      "Parameter containing:\n",
      "tensor([[[[ 0.1076,  0.0517,  0.2315,  0.1801],\n",
      "          [ 0.2869,  0.1001,  0.1759,  0.0948],\n",
      "          [ 0.1373,  0.2473,  0.1520,  0.2378],\n",
      "          [ 0.2246,  0.0374,  0.2602,  0.2234]],\n",
      "\n",
      "         [[ 0.1781,  0.2644,  0.0965,  0.1615],\n",
      "          [ 0.0952,  0.2588,  0.3385,  0.2303],\n",
      "          [ 0.1682,  0.3385,  0.1924,  0.3261],\n",
      "          [ 0.3405,  0.2574,  0.0934,  0.3451]]],\n",
      "\n",
      "\n",
      "        [[[ 0.1940,  0.2056,  0.3294,  0.1074],\n",
      "          [ 0.2594,  0.0361,  0.3113,  0.2441],\n",
      "          [-0.0180,  0.0789,  0.0909,  0.0754],\n",
      "          [ 0.0593,  0.0045,  0.0807,  0.0076]],\n",
      "\n",
      "         [[ 0.0908,  0.1971,  0.2517,  0.2209],\n",
      "          [ 0.2011,  0.1276,  0.2219,  0.0271],\n",
      "          [ 0.1101,  0.2449,  0.1618,  0.1575],\n",
      "          [-0.0122, -0.0015,  0.2380,  0.1871]]],\n",
      "\n",
      "\n",
      "        [[[ 0.2194,  0.3296,  0.2749,  0.2789],\n",
      "          [ 0.0881,  0.1245,  0.0714,  0.1787],\n",
      "          [ 0.1992,  0.3380,  0.2431,  0.2533],\n",
      "          [ 0.1141,  0.0566,  0.0788,  0.1993]],\n",
      "\n",
      "         [[ 0.1708,  0.2699,  0.1759,  0.3556],\n",
      "          [ 0.2876,  0.3198,  0.3183,  0.1631],\n",
      "          [ 0.2400,  0.0389,  0.3214,  0.0905],\n",
      "          [ 0.1941,  0.2922,  0.3184,  0.1191]]],\n",
      "\n",
      "\n",
      "        [[[-0.2030, -0.0967,  0.1226,  0.2170],\n",
      "          [-0.1422, -0.0726,  0.0732,  0.2036],\n",
      "          [-0.1520,  0.2002,  0.1790,  0.1557],\n",
      "          [ 0.0080,  0.0561,  0.0663,  0.1701]],\n",
      "\n",
      "         [[ 0.1273,  0.0791, -0.0017, -0.0167],\n",
      "          [ 0.1249,  0.2005, -0.0581,  0.2576],\n",
      "          [ 0.2136,  0.1109,  0.0437,  0.2741],\n",
      "          [-0.0699, -0.0361,  0.0080,  0.1831]]],\n",
      "\n",
      "\n",
      "        [[[-0.0289,  0.1507,  0.0167, -0.0186],\n",
      "          [ 0.1023,  0.0040,  0.0502,  0.2343],\n",
      "          [ 0.1724,  0.2097,  0.2321,  0.1053],\n",
      "          [ 0.2078,  0.1627,  0.0453,  0.0997]],\n",
      "\n",
      "         [[ 0.1076,  0.0185,  0.0119,  0.1251],\n",
      "          [ 0.0374,  0.0133,  0.0983,  0.1116],\n",
      "          [ 0.1641,  0.1240,  0.2763,  0.1111],\n",
      "          [ 0.1518,  0.2597,  0.1602,  0.2371]]],\n",
      "\n",
      "\n",
      "        [[[ 0.1021,  0.0521,  0.1376,  0.0888],\n",
      "          [ 0.1544,  0.3080,  0.1098,  0.3002],\n",
      "          [ 0.3119,  0.1513,  0.2615,  0.3177],\n",
      "          [ 0.3002,  0.3373,  0.2807,  0.3088]],\n",
      "\n",
      "         [[ 0.3298,  0.3299,  0.3395,  0.2515],\n",
      "          [ 0.3299,  0.3181,  0.1494,  0.2384],\n",
      "          [ 0.2283,  0.2382,  0.3494,  0.3361],\n",
      "          [ 0.2073,  0.3306,  0.2996,  0.1516]]],\n",
      "\n",
      "\n",
      "        [[[ 0.0475,  0.1331,  0.0382,  0.0348],\n",
      "          [-0.0799,  0.2340,  0.1309,  0.1509],\n",
      "          [ 0.0294,  0.0141, -0.0911, -0.1469],\n",
      "          [ 0.0906, -0.0405, -0.2533, -0.2391]],\n",
      "\n",
      "         [[ 0.1849,  0.2324,  0.1196,  0.1606],\n",
      "          [ 0.1922,  0.1051,  0.0825, -0.0970],\n",
      "          [-0.0544, -0.0406, -0.2071, -0.1860],\n",
      "          [-0.0472, -0.1971, -0.1793, -0.2419]]],\n",
      "\n",
      "\n",
      "        [[[ 0.2275,  0.2986,  0.0037,  0.2275],\n",
      "          [ 0.2480,  0.2766,  0.0256, -0.0232],\n",
      "          [ 0.1077,  0.0977,  0.0441,  0.0082],\n",
      "          [ 0.3102,  0.2450,  0.3160,  0.1184]],\n",
      "\n",
      "         [[ 0.1210,  0.0704,  0.2372,  0.0502],\n",
      "          [ 0.1247,  0.3122,  0.2206,  0.1624],\n",
      "          [ 0.2976,  0.2624,  0.1017,  0.2065],\n",
      "          [ 0.3613,  0.1202,  0.1476,  0.1048]]]], device='cuda:0',\n",
      "       requires_grad=True)\n",
      "torch.Size([8, 2, 4, 4])\n"
     ]
    }
   ],
   "source": [
    "def getattr_dotted(obj, attr_str):\n",
    "    for attr in attr_str.split('.'):\n",
    "        obj = getattr(obj, attr)\n",
    "    return obj\n",
    "print(getattr_dotted(snn, weight_params_names[0]))\n",
    "print(getattr_dotted(snn, weight_params_names[0]).shape)"
   ]
  },
  {
   "cell_type": "markdown",
   "metadata": {},
   "source": [
    "### Weight quantization"
   ]
  },
  {
   "cell_type": "code",
   "execution_count": 7,
   "metadata": {},
   "outputs": [
    {
     "name": "stdout",
     "output_type": "stream",
     "text": [
      "----layers.0.conv.weight----\n",
      "n_unique before quantization: 256, 225 pos 31 neg\n"
     ]
    },
    {
     "name": "stdout",
     "output_type": "stream",
     "text": [
      "max_value before quantization: 0.3613075613975525\n",
      "n_unique after quantization: 131, 104 pos 27 neg\n",
      "max_value after quantization: 0.35848483443260193, delta_w: 0.002822715323418379\n",
      "----layers.2.linear.weight----\n",
      "n_unique before quantization: 196368, 95793 pos 100575 neg\n",
      "max_value before quantization: 0.1715363711118698\n",
      "n_unique after quantization: 197, 83 pos 113 neg\n",
      "max_value after quantization: 0.17019625008106232, delta_w: 0.001340127899311483\n",
      "----layers.3.linear.weight----\n",
      "n_unique before quantization: 480, 235 pos 245 neg\n",
      "max_value before quantization: 0.5780142545700073\n",
      "n_unique after quantization: 154, 61 pos 92 neg\n",
      "max_value after quantization: 0.573498547077179, delta_w: 0.004515736363828182\n",
      "1456\n",
      "Test Loss: 0.041355024699283684\n",
      "Avg spk_count per neuron for all 100 time-steps 8401.236263736264\n",
      "Test Accuracy of the model on the test samples: 96.772\n",
      "\n"
     ]
    }
   ],
   "source": [
    "quant_bits = 8\n",
    "\n",
    "quantize_weights(snn, quant_bits, last_layer=True, symmetry=True, print_info=True)\n",
    "_, __ = snn.test(test_loader)\n",
    "\n",
    "add_name = '_q'+str(quant_bits)"
   ]
  },
  {
   "cell_type": "code",
   "execution_count": 8,
   "metadata": {},
   "outputs": [
    {
     "data": {
      "text/plain": [
       "<AxesSubplot:>"
      ]
     },
     "execution_count": 8,
     "metadata": {},
     "output_type": "execute_result"
    },
    {
     "data": {
      "image/png": "[encoded data removed]",
      "text/plain": [
       "<Figure size 640x480 with 1 Axes>"
      ]
     },
     "metadata": {},
     "output_type": "display_data"
    }
   ],
   "source": [
    "import matplotlib.pyplot as plt\n",
    "from snn_delays.utils.visualization_utils import plot_param\n",
    "plt.subplot(311)\n",
    "#plot_param(snn.layers[0].linear, 'histogram_nonzero')\n",
    "plot_param(snn.layers[-1].linear, 'histogram_nonzero')\n",
    "# plt.subplot(312)\n",
    "# plot_param(snn.f1_o, 'histogram_nonzero')\n",
    "# plt.subplot(313)\n",
    "# plot_param(snn.f2_o, 'histogram_nonzero')"
   ]
  },
  {
   "cell_type": "markdown",
   "metadata": {},
   "source": [
    "### Save weights, delays, spikes and mems"
   ]
  },
  {
   "cell_type": "code",
   "execution_count": 9,
   "metadata": {},
   "outputs": [
    {
     "name": "stdout",
     "output_type": "stream",
     "text": [
      "Weights and delays saved in  C:\\Users\\Alberto\\OneDrive - UNIVERSIDAD DE SEVILLA\\PythonData\\Checkpoints\\abcxo_64_Conv_15Hz\\weights_abcxo_conv_64_15Hz_shallow_binary_978021978021978_max_9epoch_q8\n"
     ]
    }
   ],
   "source": [
    "ckpt_dir_2 = 'weights_' + model + add_name\n",
    "save_path = os.path.join(\n",
    "    os.environ.get('SNN_CHECKPOINTS_PATH'), ckpt_dir, ckpt_dir_2)\n",
    "\n",
    "save_weights_delays(snn, path=save_path)"
   ]
  },
  {
   "cell_type": "code",
   "execution_count": null,
   "metadata": {},
   "outputs": [],
   "source": []
  }
 ],
 "metadata": {
  "kernelspec": {
   "display_name": "deeplearning",
   "language": "python",
   "name": "python3"
  },
  "language_info": {
   "codemirror_mode": {
    "name": "ipython",
    "version": 3
   },
   "file_extension": ".py",
   "mimetype": "text/x-python",
   "name": "python",
   "nbconvert_exporter": "python",
   "pygments_lexer": "ipython3",
   "version": "3.8.0"
  }
 },
 "nbformat": 4,
 "nbformat_minor": 2
}
