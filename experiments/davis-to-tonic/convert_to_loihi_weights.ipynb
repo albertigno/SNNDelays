{
 "cells": [
  {
   "cell_type": "code",
   "execution_count": 1,
   "metadata": {},
   "outputs": [
    {
     "name": "stdout",
     "output_type": "stream",
     "text": [
      "Running on: cuda:0\n"
     ]
    },
    {
     "data": {
      "text/plain": [
       "<torch._C.Generator at 0x1d234acdaf0>"
      ]
     },
     "execution_count": 1,
     "metadata": {},
     "output_type": "execute_result"
    }
   ],
   "source": [
    "import dv_processing as dv\n",
    "import torch\n",
    "from snn_delays.utils.dataset_loader import DatasetLoader\n",
    "from snn_delays.utils.model_loader_refac import ModelLoader\n",
    "from snn_delays.utils.train_utils_refact_minimal import get_device\n",
    "from snn_delays.utils.hw_aware_utils import quantize_weights\n",
    "from snn_delays.utils.hw_aware_utils import save_weights_delays, save_state\n",
    "import numpy as np\n",
    "import os\n",
    "device = get_device() \n",
    "\n",
    "# For reproducibility\n",
    "torch.manual_seed(10)"
   ]
  },
  {
   "cell_type": "code",
   "execution_count": 2,
   "metadata": {},
   "outputs": [],
   "source": [
    "add_name = '_q8'\n",
    "\n",
    "#ckpt_dir = 'exp_dvs_gesture_loihi_32'\n",
    "#model = 'ibm_gestures200_hoNone_(24, 1)_8068181818181819_max_80epoch'\n",
    "#model = 'ibm_gestures200_hoNone_(24, 1)_win_7575757575757575_max_100epoch'\n",
    "\n",
    "#ckpt_dir = 'exp_dvs_gesture_loihi_32_40' # 120, 3e6\n",
    "#model = 'ibm_gestures120_hoNone_(24, 2)_win_7613636363636364_max_80epoch' # 32x32\n",
    "#model = 'ibm_gestures120_hoNone_(24, 2)_win_7121212121212122_max_95epoch' # 22x22\n",
    "\n",
    "ckpt_dir = 'abcxo' # 250, 1e6\n",
    "model = 'abcxo_f_9233333333333333' #32x32\n"
   ]
  },
  {
   "cell_type": "code",
   "execution_count": 3,
   "metadata": {},
   "outputs": [
    {
     "name": "stdout",
     "output_type": "stream",
     "text": [
      "[CenterCrop(sensor_size=(240, 180, 2), size=(180, 180)), Downsample(time_factor=1, spatial_factor=0.25, sensor_size=None, target_size=None), ToFrame(sensor_size=(45, 45, 2), time_window=None, event_count=None, n_time_bins=50, n_event_bins=None, overlap=0, include_incomplete=False)]\n",
      "Delta t: 5.0 ms\n",
      "Delta t: 5.0 ms\n",
      "Delta t: 5.0 ms\n",
      "Instance of <class 'snn_delays.snn_refactored.SNN'> loaded successfully\n"
     ]
    }
   ],
   "source": [
    "dataset = 'davis'\n",
    "total_time = 50\n",
    "batch_size = 64\n",
    "folder_name = 'ABCXO'\n",
    "\n",
    "# DATASET\n",
    "DL = DatasetLoader(dataset=dataset,\n",
    "                  caching='memory',\n",
    "                  num_workers=0,\n",
    "                  batch_size=batch_size,\n",
    "                  total_time=total_time,\n",
    "                  sensor_size_to = 45,\n",
    "                  folder_name = folder_name)\n",
    "train_loader, test_loader, dataset_dict = DL.get_dataloaders()\n",
    "\n",
    "snn = ModelLoader(model, ckpt_dir, batch_size, device) "
   ]
  },
  {
   "cell_type": "code",
   "execution_count": null,
   "metadata": {},
   "outputs": [
    {
     "name": "stdout",
     "output_type": "stream",
     "text": [
      "Delta t: 5.0 ms\n",
      "Delta t: 5.0 ms\n",
      "Delta t: 5.0 ms\n",
      "Instance of <class 'snn_delays.snn_refactored.SNN'> loaded successfully\n",
      "600\n",
      "Test Loss: 0.23076951839029788\n",
      "Avg spk_count per neuron for all 50 time-steps 1157.1933333333334\n",
      "Test Accuracy of the model on the test samples: 92.333\n",
      "\n"
     ]
    }
   ],
   "source": [
    "snn.input2spike_th = 0.5\n",
    "_, __ = snn.test(test_loader)"
   ]
  },
  {
   "cell_type": "code",
   "execution_count": 4,
   "metadata": {},
   "outputs": [],
   "source": [
    "weight_params_names = [name for name, param in snn.named_parameters() if 'linear' in name]"
   ]
  },
  {
   "cell_type": "code",
   "execution_count": 5,
   "metadata": {},
   "outputs": [
    {
     "data": {
      "text/plain": [
       "['layers.0.linear.weight', 'layers.1.linear.weight', 'layers.2.linear.weight']"
      ]
     },
     "execution_count": 5,
     "metadata": {},
     "output_type": "execute_result"
    }
   ],
   "source": [
    "weight_params_names"
   ]
  },
  {
   "cell_type": "code",
   "execution_count": 29,
   "metadata": {},
   "outputs": [
    {
     "data": {
      "text/plain": [
       "Parameter containing:\n",
       "tensor([[-0.0121, -0.0124, -0.0119,  ...,  0.0057, -0.0149, -0.0136],\n",
       "        [ 0.0076,  0.0028, -0.0129,  ...,  0.0052, -0.0036, -0.0023],\n",
       "        [-0.0042,  0.0121,  0.0014,  ..., -0.0046, -0.0056,  0.0238],\n",
       "        ...,\n",
       "        [ 0.0078,  0.0188,  0.0017,  ...,  0.0119, -0.0092,  0.0247],\n",
       "        [-0.0185,  0.0052, -0.0075,  ..., -0.0031, -0.0085, -0.0171],\n",
       "        [ 0.0038,  0.0005,  0.0060,  ..., -0.0016,  0.0011, -0.0113]],\n",
       "       device='cuda:0', requires_grad=True)"
      ]
     },
     "execution_count": 29,
     "metadata": {},
     "output_type": "execute_result"
    }
   ],
   "source": [
    "def getattr_dotted(obj, attr_str):\n",
    "    for attr in attr_str.split('.'):\n",
    "        obj = getattr(obj, attr)\n",
    "    return obj\n",
    "getattr_dotted(snn, weight_params_names[0])"
   ]
  },
  {
   "cell_type": "markdown",
   "metadata": {},
   "source": [
    "### Weight quantization"
   ]
  },
  {
   "cell_type": "code",
   "execution_count": 4,
   "metadata": {},
   "outputs": [
    {
     "name": "stdout",
     "output_type": "stream",
     "text": [
      "----layers.0.linear.weight----\n",
      "n_unique before quantization: 258657, 116920 pos 141737 neg\n",
      "max_value before quantization: 0.13369983434677124\n",
      "n_unique after quantization: 188, 93 pos 94 neg\n",
      "max_value after quantization: 0.1326553076505661, delta_w: 0.0010445299558341503\n",
      "----layers.1.linear.weight----\n",
      "n_unique before quantization: 4096, 2048 pos 2048 neg\n",
      "max_value before quantization: 0.16806311905384064\n",
      "n_unique after quantization: 207, 103 pos 103 neg\n",
      "max_value after quantization: 0.16675013303756714, delta_w: 0.00131299311760813\n",
      "----layers.2.linear.weight----\n",
      "n_unique before quantization: 320, 182 pos 138 neg\n",
      "max_value before quantization: 0.42832162976264954\n",
      "n_unique after quantization: 77, 41 pos 35 neg\n",
      "max_value after quantization: 0.42497536540031433, delta_w: 0.0033462627325206995\n",
      "600\n",
      "Test Loss: 0.32325255796313285\n",
      "Avg spk_count per neuron for all 50 time-steps 1159.0\n",
      "Test Accuracy of the model on the test samples: 89.500\n",
      "\n"
     ]
    }
   ],
   "source": [
    "quantize_weights(snn, 8, last_layer=True, symmetry=True, print_info=True)\n",
    "_, __ = snn.test(test_loader)"
   ]
  },
  {
   "cell_type": "code",
   "execution_count": 19,
   "metadata": {},
   "outputs": [
    {
     "data": {
      "text/plain": [
       "<AxesSubplot:>"
      ]
     },
     "execution_count": 19,
     "metadata": {},
     "output_type": "execute_result"
    },
    {
     "data": {
      "image/png": "[encoded data removed]",
      "text/plain": [
       "<Figure size 640x480 with 1 Axes>"
      ]
     },
     "metadata": {},
     "output_type": "display_data"
    }
   ],
   "source": [
    "import matplotlib.pyplot as plt\n",
    "from snn_delays.utils.visualization_utils import plot_param\n",
    "plt.subplot(311)\n",
    "plot_param(snn.layers[0].linear, 'histogram_nonzero')\n",
    "# plt.subplot(312)\n",
    "# plot_param(snn.f1_o, 'histogram_nonzero')\n",
    "# plt.subplot(313)\n",
    "# plot_param(snn.f2_o, 'histogram_nonzero')"
   ]
  },
  {
   "cell_type": "markdown",
   "metadata": {},
   "source": [
    "### Save weights, delays, spikes and mems"
   ]
  },
  {
   "cell_type": "code",
   "execution_count": 8,
   "metadata": {},
   "outputs": [
    {
     "name": "stdout",
     "output_type": "stream",
     "text": [
      "no delays in this network. setting all delays to zero.\n",
      "no delays in this network. setting all delays to zero.\n",
      "no delays in this network. setting all delays to zero.\n",
      "Weights and delays saved in  C:\\Users\\Alberto\\OneDrive - UNIVERSIDAD DE SEVILLA\\PythonData\\Checkpoints\\abcxo\\weights_abcxo_f_9233333333333333_q8\n"
     ]
    }
   ],
   "source": [
    "ckpt_dir_2 = 'weights_' + model + add_name\n",
    "save_path = os.path.join(\n",
    "    os.environ.get('SNN_CHECKPOINTS_PATH'), ckpt_dir, ckpt_dir_2)\n",
    "\n",
    "save_weights_delays(snn, path=save_path)"
   ]
  }
 ],
 "metadata": {
  "kernelspec": {
   "display_name": "deeplearning",
   "language": "python",
   "name": "python3"
  },
  "language_info": {
   "codemirror_mode": {
    "name": "ipython",
    "version": 3
   },
   "file_extension": ".py",
   "mimetype": "text/x-python",
   "name": "python",
   "nbconvert_exporter": "python",
   "pygments_lexer": "ipython3",
   "version": "3.8.0"
  }
 },
 "nbformat": 4,
 "nbformat_minor": 2
}
