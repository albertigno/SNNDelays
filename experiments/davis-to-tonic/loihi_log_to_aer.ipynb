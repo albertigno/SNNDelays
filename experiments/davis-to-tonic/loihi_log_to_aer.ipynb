{
 "cells": [
  {
   "cell_type": "code",
   "execution_count": null,
   "id": "f2242abc",
   "metadata": {},
   "outputs": [],
   "source": [
    "import dv_processing as dv\n",
    "import numpy as np\n",
    "import os\n",
    "# Sample VGA resolution, same as the DVXplorer camera\n",
    "resolution = (32, 32)\n",
    "\n",
    "# Event only configuration\n",
    "#config = dv.io.MonoCameraWriter.EventOnlyConfig(\"DVXplorer_sample\", resolution)\n",
    "\n",
    "config = dv.io.MonoCameraWriter.Config(\"DVXplorer_sample\")\n",
    "\n",
    "# Add an event stream with a resolution\n",
    "config.addEventStream(resolution)\n",
    "\n",
    "# Add frame stream with a resolution\n",
    "config.addFrameStream(resolution)\n",
    "\n",
    "# Add IMU stream\n",
    "config.addImuStream()\n",
    "\n",
    "# Add trigger stream\n",
    "config.addTriggerStream()\n",
    "\n",
    "file_name = \"spikesA\"\n",
    "\n",
    "# Create the writer instance, it will only have a single event output stream.\n",
    "writer = dv.io.MonoCameraWriter(file_name + \".aedat4\", config)\n",
    "\n",
    "# Read text data line by line and parse events\n",
    "events_list = []\n",
    "events_store = dv.EventStore()\n",
    "\n",
    "file_location = os.path.join(r\"P:\\NewLoihiData\\Loihi_dataset\", file_name+\".log\")\n",
    "\n",
    "c = 0\n",
    "timestamps = []\n",
    "\n",
    "with open(file_location, \"r\") as f:\n",
    "#with open(\"spikes_output_loihi.log\", \"r\") as f:\n",
    "    for idx, line in enumerate(f):\n",
    "        timestamp_str, x_str, y_str, polarity_str = line.strip().split(\",\")\n",
    "        timestamp = int(float(timestamp_str) * 1_000_000)  # Convert seconds to microseconds\n",
    "        if idx==0:\n",
    "            first_timestamp = timestamp\n",
    "        x = int(x_str)\n",
    "        y = int(y_str)\n",
    "        polarity = bool(polarity_str)\n",
    "        events_list.append((timestamp, x, y, polarity))\n",
    "        events_store.push_back(timestamp, x, y, polarity)\n",
    "        if timestamp-first_timestamp>1000000:\n",
    "            first_timestamp = timestamp\n",
    "            timestamps.append(timestamp)\n",
    "            c += 1\n",
    "\n",
    "writer.writeEvents(events_store)\n",
    "\n",
    "for t in timestamps:\n",
    "    # Write 1 dummy image frame (otherwise aedat4to2 doesn't work)\n",
    "    image = np.full((resolution[0], resolution[1], 3), fill_value=255, dtype=np.uint8)\n",
    "    frame = dv.Frame(t, image)\n",
    "    writer.writeFrame(frame)\n",
    "\n",
    "### then run aedat4to2 events_from_loihi.aedat4 --no_imu --no_frame   "
   ]
  },
  {
   "cell_type": "code",
   "execution_count": 11,
   "id": "b2f0f8d8",
   "metadata": {},
   "outputs": [
    {
     "data": {
      "text/plain": [
       "1749634048202322"
      ]
     },
     "execution_count": 11,
     "metadata": {},
     "output_type": "execute_result"
    }
   ],
   "source": [
    "timestamp"
   ]
  },
  {
   "cell_type": "code",
   "execution_count": 14,
   "id": "43c60814",
   "metadata": {},
   "outputs": [
    {
     "data": {
      "text/plain": [
       "0.00243509787740635"
      ]
     },
     "execution_count": 14,
     "metadata": {},
     "output_type": "execute_result"
    }
   ],
   "source": [
    "180/c"
   ]
  },
  {
   "cell_type": "code",
   "execution_count": 19,
   "id": "dbb32577",
   "metadata": {},
   "outputs": [
    {
     "data": {
      "text/plain": [
       "179"
      ]
     },
     "execution_count": 19,
     "metadata": {},
     "output_type": "execute_result"
    }
   ],
   "source": [
    "c"
   ]
  },
  {
   "cell_type": "code",
   "execution_count": null,
   "id": "5bc9bbfa",
   "metadata": {},
   "outputs": [],
   "source": []
  }
 ],
 "metadata": {
  "kernelspec": {
   "display_name": "deeplearning",
   "language": "python",
   "name": "python3"
  },
  "language_info": {
   "codemirror_mode": {
    "name": "ipython",
    "version": 3
   },
   "file_extension": ".py",
   "mimetype": "text/x-python",
   "name": "python",
   "nbconvert_exporter": "python",
   "pygments_lexer": "ipython3",
   "version": "3.8.0"
  }
 },
 "nbformat": 4,
 "nbformat_minor": 5
}
