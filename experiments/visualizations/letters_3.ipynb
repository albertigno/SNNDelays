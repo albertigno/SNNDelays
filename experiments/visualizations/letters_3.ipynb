{
 "cells": [
  {
   "cell_type": "code",
   "execution_count": 9,
   "id": "decfe9fd",
   "metadata": {},
   "outputs": [
    {
     "name": "stdout",
     "output_type": "stream",
     "text": [
      "num timesteps per sample: 64\n",
      "{'num_input': 25, 'num_training_samples': 9600, 'num_output': 24, 'time_ms': 1000.0, 'dataset_name': 'letters'}\n",
      "torch.Size([128, 64, 1, 25])\n",
      "torch.Size([128, 24])\n"
     ]
    }
   ],
   "source": [
    "from snn_delays.datasets.custom_datasets import CustomDataset\n",
    "from snn_delays.config import DATASET_PATH\n",
    "from torch.utils.data import DataLoader\n",
    "import os\n",
    "\n",
    "from tonic import MemoryCachedDataset\n",
    "import numpy as np\n",
    "\n",
    "'''\n",
    "4-word classification dataset (permuted without repetition)\n",
    "\n",
    "in total, 24 classes\n",
    "\n",
    "words = [\n",
    "    \"ABCD\", \"ABDC\", \"ACBD\", \"ACDB\", \"ADBC\", \"ADCB\",\n",
    "    \"BACD\", \"BADC\", \"BCAD\", \"BCDA\", \"BDAC\", \"BDCA\",\n",
    "    \"CABD\", \"CADB\", \"CBAD\", \"CBDA\", \"CDAB\", \"CDBA\",\n",
    "    \"DABC\", \"DACB\", \"DBAC\", \"DBCA\", \"DCAB\", \"DCBA\"\n",
    "]\n",
    "\n",
    "'''\n",
    "\n",
    "#data = np.load(os.path.join(DATASET_PATH, 'raw_datasets', 'Letters', 'letter_classification_dataset.npz'))\n",
    "data = np.load(os.path.join(DATASET_PATH, 'Letters', 'four_letter_classification_dataset.npz'))\n",
    "\n",
    "train_data = data['train_data']\n",
    "test_data = data['test_data']\n",
    "train_labels= data['train_labels']\n",
    "test_labels = data['test_labels']\n",
    "\n",
    "num_samples = len(train_labels)\n",
    "\n",
    "train_dataset = CustomDataset(train_data, train_labels)\n",
    "test_dataset = CustomDataset(test_data, test_labels)\n",
    "\n",
    "dataset_dict = train_dataset.get_train_attributes()\n",
    "\n",
    "cached_train_dataset = MemoryCachedDataset(train_dataset)\n",
    "cached_test_dataset = MemoryCachedDataset(test_dataset)\n",
    "\n",
    "total_time = train_data.shape[1]\n",
    "print(f'num timesteps per sample: {total_time}')\n",
    "batch_size = 128\n",
    "\n",
    "train_loader = DataLoader(cached_train_dataset,\n",
    "                            batch_size=batch_size,\n",
    "                            shuffle=True,\n",
    "                            drop_last=False,\n",
    "                            pin_memory=True,\n",
    "                            num_workers=0)\n",
    "\n",
    "test_loader = DataLoader(cached_test_dataset,\n",
    "                            batch_size=batch_size,\n",
    "                            shuffle=True,\n",
    "                            drop_last=False,\n",
    "                            pin_memory=True,\n",
    "                            num_workers=0)\n",
    "\n",
    "dataset_dict[\"time_ms\"] = 1e3\n",
    "dataset_dict[\"dataset_name\"] = \"letters\"\n",
    "\n",
    "print(dataset_dict)\n",
    "\n",
    "for img, lbl in train_loader:\n",
    "    print(img.shape)\n",
    "    print(lbl.shape)\n",
    "    break"
   ]
  },
  {
   "cell_type": "code",
   "execution_count": 10,
   "id": "d72eddf4",
   "metadata": {},
   "outputs": [
    {
     "name": "stdout",
     "output_type": "stream",
     "text": [
      "[[[1. 0. 1. ... 0. 1. 0.]]\n",
      "\n",
      " [[0. 0. 0. ... 0. 1. 0.]]\n",
      "\n",
      " [[0. 0. 0. ... 0. 0. 0.]]\n",
      "\n",
      " ...\n",
      "\n",
      " [[0. 1. 0. ... 1. 1. 0.]]\n",
      "\n",
      " [[0. 0. 0. ... 0. 0. 0.]]\n",
      "\n",
      " [[0. 0. 0. ... 0. 0. 0.]]]\n"
     ]
    }
   ],
   "source": [
    "sample = img[0].cpu().numpy()\n",
    "print(sample)"
   ]
  },
  {
   "cell_type": "code",
   "execution_count": 11,
   "id": "a96196a7",
   "metadata": {},
   "outputs": [
    {
     "name": "stdout",
     "output_type": "stream",
     "text": [
      "[0. 0. 0. 0. 0. 0. 0. 0. 0. 0. 0. 0. 0. 0. 0. 0. 0. 0. 1. 0. 0. 0. 0. 0.]\n"
     ]
    }
   ],
   "source": [
    "reference = lbl[0].cpu().numpy()\n",
    "print(reference)"
   ]
  },
  {
   "cell_type": "code",
   "execution_count": 12,
   "id": "acfde0ce",
   "metadata": {},
   "outputs": [
    {
     "data": {
      "text/plain": [
       "<matplotlib.image.AxesImage at 0x20f2be7e5a0>"
      ]
     },
     "execution_count": 12,
     "metadata": {},
     "output_type": "execute_result"
    },
    {
     "data": {
      "image/png": "[encoded data removed]",
      "text/plain": [
       "<Figure size 640x480 with 1 Axes>"
      ]
     },
     "metadata": {},
     "output_type": "display_data"
    }
   ],
   "source": [
    "import matplotlib.pyplot as plt\n",
    "plt.imshow(sample[:, 0, :].T)"
   ]
  }
 ],
 "metadata": {
  "kernelspec": {
   "display_name": "deepsnn",
   "language": "python",
   "name": "python3"
  },
  "language_info": {
   "codemirror_mode": {
    "name": "ipython",
    "version": 3
   },
   "file_extension": ".py",
   "mimetype": "text/x-python",
   "name": "python",
   "nbconvert_exporter": "python",
   "pygments_lexer": "ipython3",
   "version": "3.12.1"
  }
 },
 "nbformat": 4,
 "nbformat_minor": 5
}
