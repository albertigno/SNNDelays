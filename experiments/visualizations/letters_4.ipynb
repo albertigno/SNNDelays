{
 "cells": [
  {
   "cell_type": "code",
   "execution_count": null,
   "id": "decfe9fd",
   "metadata": {},
   "outputs": [
    {
     "name": "stderr",
     "output_type": "stream",
     "text": [
      "c:\\Users\\Alberto\\anaconda3\\envs\\deepsnn\\Lib\\site-packages\\tqdm\\auto.py:21: TqdmWarning: IProgress not found. Please update jupyter and ipywidgets. See https://ipywidgets.readthedocs.io/en/stable/user_install.html\n",
      "  from .autonotebook import tqdm as notebook_tqdm\n"
     ]
    },
    {
     "name": "stdout",
     "output_type": "stream",
     "text": [
      "num timesteps per sample: 48\n",
      "{'num_input': 25, 'num_training_samples': 2400, 'num_output': 6, 'time_ms': 1000.0, 'dataset_name': 'letters'}\n",
      "torch.Size([128, 48, 1, 25])\n",
      "torch.Size([128, 6])\n"
     ]
    }
   ],
   "source": [
    "from snn_delays.datasets.custom_datasets import CustomDataset\n",
    "from snn_delays.config import DATASET_PATH\n",
    "from torch.utils.data import DataLoader\n",
    "import os\n",
    "\n",
    "from tonic import MemoryCachedDataset\n",
    "import numpy as np\n",
    "\n",
    "'''\n",
    "3-word classification dataset (permuted without repetition)\n",
    "\n",
    "in total, 6 classes\n",
    "\n",
    "'''\n",
    "\n",
    "#data = np.load(os.path.join(DATASET_PATH, 'raw_datasets', 'Letters', 'letter_classification_dataset.npz'))\n",
    "data = np.load(os.path.join(DATASET_PATH, 'Letters', 'three_permuted_letter_classification_dataset.npz'))\n",
    "\n",
    "train_data = data['train_data']\n",
    "test_data = data['test_data']\n",
    "train_labels= data['train_labels']\n",
    "test_labels = data['test_labels']\n",
    "\n",
    "num_samples = len(train_labels)\n",
    "\n",
    "train_dataset = CustomDataset(train_data, train_labels)\n",
    "test_dataset = CustomDataset(test_data, test_labels)\n",
    "\n",
    "dataset_dict = train_dataset.get_train_attributes()\n",
    "\n",
    "cached_train_dataset = MemoryCachedDataset(train_dataset)\n",
    "cached_test_dataset = MemoryCachedDataset(test_dataset)\n",
    "\n",
    "total_time = train_data.shape[1]\n",
    "print(f'num timesteps per sample: {total_time}')\n",
    "batch_size = 128\n",
    "\n",
    "train_loader = DataLoader(cached_train_dataset,\n",
    "                            batch_size=batch_size,\n",
    "                            shuffle=True,\n",
    "                            drop_last=False,\n",
    "                            pin_memory=True,\n",
    "                            num_workers=0)\n",
    "\n",
    "test_loader = DataLoader(cached_test_dataset,\n",
    "                            batch_size=batch_size,\n",
    "                            shuffle=True,\n",
    "                            drop_last=False,\n",
    "                            pin_memory=True,\n",
    "                            num_workers=0)\n",
    "\n",
    "dataset_dict[\"time_ms\"] = 1e3\n",
    "dataset_dict[\"dataset_name\"] = \"letters\"\n",
    "\n",
    "print(dataset_dict)\n",
    "\n",
    "for img, lbl in train_loader:\n",
    "    print(img.shape)\n",
    "    print(lbl.shape)\n",
    "    break"
   ]
  },
  {
   "cell_type": "code",
   "execution_count": 2,
   "id": "d72eddf4",
   "metadata": {},
   "outputs": [
    {
     "name": "stdout",
     "output_type": "stream",
     "text": [
      "[[[0. 0. 0. ... 0. 0. 0.]]\n",
      "\n",
      " [[0. 0. 0. ... 0. 1. 0.]]\n",
      "\n",
      " [[1. 1. 0. ... 0. 1. 0.]]\n",
      "\n",
      " ...\n",
      "\n",
      " [[0. 0. 0. ... 0. 1. 1.]]\n",
      "\n",
      " [[0. 0. 0. ... 0. 0. 0.]]\n",
      "\n",
      " [[0. 1. 0. ... 0. 0. 0.]]]\n"
     ]
    }
   ],
   "source": [
    "sample = img[0].cpu().numpy()\n",
    "print(sample)"
   ]
  },
  {
   "cell_type": "code",
   "execution_count": 3,
   "id": "a96196a7",
   "metadata": {},
   "outputs": [
    {
     "name": "stdout",
     "output_type": "stream",
     "text": [
      "[0. 0. 1. 0. 0. 0.]\n"
     ]
    }
   ],
   "source": [
    "reference = lbl[0].cpu().numpy()\n",
    "print(reference)"
   ]
  },
  {
   "cell_type": "code",
   "execution_count": 4,
   "id": "acfde0ce",
   "metadata": {},
   "outputs": [
    {
     "data": {
      "text/plain": [
       "<matplotlib.image.AxesImage at 0x27ac4081f10>"
      ]
     },
     "execution_count": 4,
     "metadata": {},
     "output_type": "execute_result"
    },
    {
     "data": {
      "image/png": "[encoded data removed]",
      "text/plain": [
       "<Figure size 640x480 with 1 Axes>"
      ]
     },
     "metadata": {},
     "output_type": "display_data"
    }
   ],
   "source": [
    "import matplotlib.pyplot as plt\n",
    "plt.imshow(sample[:, 0, :].T)"
   ]
  }
 ],
 "metadata": {
  "kernelspec": {
   "display_name": "deepsnn",
   "language": "python",
   "name": "python3"
  },
  "language_info": {
   "codemirror_mode": {
    "name": "ipython",
    "version": 3
   },
   "file_extension": ".py",
   "mimetype": "text/x-python",
   "name": "python",
   "nbconvert_exporter": "python",
   "pygments_lexer": "ipython3",
   "version": "3.12.1"
  }
 },
 "nbformat": 4,
 "nbformat_minor": 5
}
