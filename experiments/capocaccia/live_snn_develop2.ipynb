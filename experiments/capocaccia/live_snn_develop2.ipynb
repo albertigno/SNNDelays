{
 "cells": [
  {
   "cell_type": "code",
   "execution_count": 1,
   "id": "95c1c787",
   "metadata": {},
   "outputs": [
    {
     "name": "stdout",
     "output_type": "stream",
     "text": [
      "Delta t: 20.0 ms\n",
      "Delta t: 20.0 ms\n",
      "Delta t: 20.0 ms\n",
      "Delta t: 20.0 ms\n",
      "Instance of <class 'snn_delays.snn_refactored.SNN'> loaded successfully\n"
     ]
    },
    {
     "name": "stderr",
     "output_type": "stream",
     "text": [
      "c:\\Users\\Alberto\\anaconda3\\envs\\deeplearning\\lib\\site-packages\\torch\\serialization.py:1113: SourceChangeWarning: source code of class 'snn_delays.snn_refactored.SNN' has changed. you can retrieve the original source code by accessing the object's source attribute or set `torch.nn.Module.dump_patches = True` and use the patch tool to revert the changes.\n",
      "  warnings.warn(msg, SourceChangeWarning)\n"
     ]
    }
   ],
   "source": [
    "from snn_delays.utils.model_loader_refac import ModelLoader\n",
    "\n",
    "snn = ModelLoader('ibm_gest_ffw', 'capocaccia_live', 1, 'cpu', live = True)"
   ]
  },
  {
   "cell_type": "code",
   "execution_count": 2,
   "id": "5641134d",
   "metadata": {},
   "outputs": [
    {
     "name": "stdout",
     "output_type": "stream",
     "text": [
      "Running on: cpu\n",
      "[CropTime(min=0, max=1000000.0), Downsample(time_factor=1, spatial_factor=0.25, sensor_size=None, target_size=None), ToFrame(sensor_size=(32, 32, 2), time_window=None, event_count=None, n_time_bins=50, n_event_bins=None, overlap=0, include_incomplete=False)]\n"
     ]
    }
   ],
   "source": [
    "import torch\n",
    "import time\n",
    "from snn_delays.utils.dataset_loader import DatasetLoader\n",
    "from snn_delays.utils.train_utils_refact_minimal import get_device\n",
    "\n",
    "'''\n",
    "SHD dataset as in ablation study\n",
    "'''\n",
    "\n",
    "device = get_device()\n",
    "dataset = 'ibm_gestures'\n",
    "num_steps = 50\n",
    "batch_size = 1\n",
    "\n",
    "# DATASET\n",
    "DL = DatasetLoader(dataset=dataset,\n",
    "                  caching='',\n",
    "                  num_workers=0,\n",
    "                  batch_size=batch_size,\n",
    "                  total_time=num_steps,\n",
    "                  sensor_size_to=32,\n",
    "                  crop_to=1e6)\n",
    "train_loader, test_loader, dataset_dict = DL.get_dataloaders()"
   ]
  },
  {
   "cell_type": "code",
   "execution_count": 3,
   "id": "f1829dba",
   "metadata": {},
   "outputs": [
    {
     "name": "stdout",
     "output_type": "stream",
     "text": [
      "torch.Size([1, 2, 32, 32])\n",
      "torch.Size([1, 2, 32, 32])\n",
      "torch.Size([1, 2, 32, 32])\n",
      "torch.Size([1, 2, 32, 32])\n",
      "torch.Size([1, 2, 32, 32])\n",
      "torch.Size([1, 2, 32, 32])\n",
      "torch.Size([1, 2, 32, 32])\n",
      "torch.Size([1, 2, 32, 32])\n",
      "torch.Size([1, 2, 32, 32])\n",
      "torch.Size([1, 2, 32, 32])\n",
      "torch.Size([1, 2, 32, 32])\n",
      "torch.Size([1, 2, 32, 32])\n",
      "torch.Size([1, 2, 32, 32])\n",
      "torch.Size([1, 2, 32, 32])\n",
      "torch.Size([1, 2, 32, 32])\n",
      "torch.Size([1, 2, 32, 32])\n",
      "torch.Size([1, 2, 32, 32])\n",
      "torch.Size([1, 2, 32, 32])\n",
      "torch.Size([1, 2, 32, 32])\n",
      "torch.Size([1, 2, 32, 32])\n",
      "torch.Size([1, 2, 32, 32])\n",
      "torch.Size([1, 2, 32, 32])\n",
      "torch.Size([1, 2, 32, 32])\n",
      "torch.Size([1, 2, 32, 32])\n",
      "torch.Size([1, 2, 32, 32])\n",
      "torch.Size([1, 2, 32, 32])\n",
      "torch.Size([1, 2, 32, 32])\n",
      "torch.Size([1, 2, 32, 32])\n",
      "torch.Size([1, 2, 32, 32])\n",
      "torch.Size([1, 2, 32, 32])\n",
      "torch.Size([1, 2, 32, 32])\n",
      "torch.Size([1, 2, 32, 32])\n",
      "torch.Size([1, 2, 32, 32])\n",
      "torch.Size([1, 2, 32, 32])\n",
      "torch.Size([1, 2, 32, 32])\n",
      "torch.Size([1, 2, 32, 32])\n",
      "torch.Size([1, 2, 32, 32])\n",
      "torch.Size([1, 2, 32, 32])\n",
      "torch.Size([1, 2, 32, 32])\n",
      "torch.Size([1, 2, 32, 32])\n",
      "torch.Size([1, 2, 32, 32])\n",
      "torch.Size([1, 2, 32, 32])\n",
      "torch.Size([1, 2, 32, 32])\n",
      "torch.Size([1, 2, 32, 32])\n",
      "torch.Size([1, 2, 32, 32])\n",
      "torch.Size([1, 2, 32, 32])\n",
      "torch.Size([1, 2, 32, 32])\n",
      "torch.Size([1, 2, 32, 32])\n",
      "torch.Size([1, 2, 32, 32])\n",
      "torch.Size([1, 2, 32, 32])\n",
      "pred: 5, ref: tensor([[0., 0., 0., 0., 0., 1., 0., 0., 0., 0., 0.]], dtype=torch.float64)\n"
     ]
    }
   ],
   "source": [
    "for images, labels in test_loader:\n",
    "\n",
    "    for step in range(num_steps):\n",
    "        im_step = images[:, step, :, :, :]\n",
    "        print(im_step.shape)\n",
    "        pred = snn.propagate_live(im_step)    \n",
    "    \n",
    "    snn.reset_state_live()\n",
    "\n",
    "    print(f'pred: {pred}, ref: {labels}')\n",
    "\n",
    "    break\n",
    "\n",
    "    \n",
    "\n"
   ]
  },
  {
   "cell_type": "code",
   "execution_count": 5,
   "id": "88482693",
   "metadata": {},
   "outputs": [
    {
     "data": {
      "text/plain": [
       "50"
      ]
     },
     "execution_count": 5,
     "metadata": {},
     "output_type": "execute_result"
    }
   ],
   "source": [
    "len(snn.mems_fifo['l1'])"
   ]
  },
  {
   "cell_type": "code",
   "execution_count": 7,
   "id": "beb26b53",
   "metadata": {},
   "outputs": [
    {
     "data": {
      "text/plain": [
       "deque([tensor([[ 0.0341,  0.0711,  0.1662, -0.1986, -0.0543, -0.1864, -0.2389, -0.3365,\n",
       "                -0.1722, -0.1570,  0.0594]]),\n",
       "       tensor([[ 0.0238, -0.0489,  0.1488, -0.4448,  0.0713, -0.2154, -0.3068, -0.2719,\n",
       "                -0.1552, -0.2131,  0.5384]]),\n",
       "       tensor([[-0.1229, -0.2614,  0.0862, -0.3619,  0.0466, -0.2949, -0.2953, -0.3080,\n",
       "                -0.2874, -0.4040,  0.3547]]),\n",
       "       tensor([[-0.2950, -0.2394,  0.2527, -0.2898,  0.0933, -0.0428, -0.1693, -0.3933,\n",
       "                -0.4537, -0.3689,  0.4301]]),\n",
       "       tensor([[-0.3782, -0.3127,  0.1839, -0.2827,  0.1648,  0.0374,  0.1061, -0.7090,\n",
       "                -0.4268, -0.5313,  0.5188]]),\n",
       "       tensor([[-0.3258, -0.4832,  0.2892, -0.5258, -0.0128, -0.0640,  0.0283, -0.6652,\n",
       "                -0.5997, -0.7966,  0.5128]]),\n",
       "       tensor([[-1.2261e-01, -2.4258e-01,  3.0635e-01, -4.5718e-01, -4.0606e-07,\n",
       "                -6.8085e-02,  1.1966e-02, -7.1625e-01, -4.1969e-01, -7.8453e-01,\n",
       "                 6.7241e-01]]),\n",
       "       tensor([[-0.2734, -0.3788,  0.3821, -0.5353, -0.1736,  0.0974,  0.0617, -0.7762,\n",
       "                -0.4488, -0.7438,  0.7685]]),\n",
       "       tensor([[-0.1801, -0.2593,  0.2533, -0.4639, -0.1562, -0.0113,  0.1375, -0.8854,\n",
       "                -0.5135, -0.8963,  0.7593]]),\n",
       "       tensor([[-0.3424, -0.1851,  0.2558, -0.3754, -0.4626,  0.2534,  0.3138, -1.0324,\n",
       "                -0.4823, -0.7249,  0.7580]]),\n",
       "       tensor([[-0.3263, -0.4066,  0.2163, -0.4208, -0.7579,  0.5190,  0.4843, -1.0704,\n",
       "                -0.7400, -0.6153,  0.6251]]),\n",
       "       tensor([[-0.4424, -0.5914,  0.5124, -0.5264, -0.6063,  0.6384,  0.3387, -1.1269,\n",
       "                -1.0428, -0.7889,  0.5366]]),\n",
       "       tensor([[-0.5031, -0.7222,  0.4607, -0.6682, -0.8624,  0.6765,  0.4610, -1.0838,\n",
       "                -0.9967, -0.3770,  0.5559]]),\n",
       "       tensor([[-0.4834, -0.3408,  0.4811, -0.5573, -0.6669,  1.0013,  0.8556, -1.0479,\n",
       "                -1.0522, -0.5988,  0.4031]]),\n",
       "       tensor([[-0.6698, -0.4452,  0.1968, -0.3608, -0.7642,  0.9105,  0.8846, -1.0456,\n",
       "                -0.9428, -0.1930,  0.5572]]),\n",
       "       tensor([[-0.4036, -0.3695,  0.3594, -0.3820, -0.9126,  0.9766,  0.9045, -1.0182,\n",
       "                -0.9989, -0.1883,  0.3083]]),\n",
       "       tensor([[-0.3751, -0.3974,  0.4491, -0.3590, -0.8424,  1.1507,  1.0225, -0.8874,\n",
       "                -1.0482, -0.0939,  0.5889]]),\n",
       "       tensor([[-0.5005, -0.5700,  0.1570, -0.3332, -0.7641,  1.0455,  1.1890, -0.9374,\n",
       "                -0.9947, -0.0654,  0.6298]]),\n",
       "       tensor([[-0.3131, -0.4949,  0.1480, -0.4513, -1.1176,  0.9815,  0.7424, -1.3851,\n",
       "                -1.2414, -0.0915,  0.3374]]),\n",
       "       tensor([[-0.5378, -0.5324,  0.0672, -0.3763, -0.8776,  1.0573,  0.9128, -1.3297,\n",
       "                -1.1274,  0.0796,  0.4447]]),\n",
       "       tensor([[-0.4256, -0.4673,  0.2928, -0.3282, -1.1866,  1.0332,  0.9176, -1.7222,\n",
       "                -1.0075, -0.0080,  0.5371]]),\n",
       "       tensor([[-0.6187, -0.8063,  0.4153, -0.4426, -0.9522,  1.0585,  0.8891, -1.6471,\n",
       "                -1.1834, -0.1042,  0.4472]]),\n",
       "       tensor([[-0.5532, -0.6405,  0.2493, -0.3126, -1.2757,  0.9669,  0.8599, -1.7419,\n",
       "                -1.0220, -0.1840,  0.4574]]),\n",
       "       tensor([[-0.4773, -0.8559,  0.3955, -0.2909, -0.9348,  0.7799,  0.8862, -1.6884,\n",
       "                -1.0273, -0.5238,  0.5618]]),\n",
       "       tensor([[-0.6046, -0.8146,  0.3639, -0.0281, -0.9094,  1.0424,  1.0167, -1.8135,\n",
       "                -0.8289, -0.4101,  0.5965]]),\n",
       "       tensor([[-0.6099, -0.7625,  0.5337, -0.1659, -0.7859,  1.0536,  1.0235, -1.8194,\n",
       "                -1.0753, -0.7586,  0.1509]]),\n",
       "       tensor([[-0.3991, -1.0658,  0.5147, -0.4110, -0.8760,  0.7402,  0.7940, -1.7425,\n",
       "                -1.1299, -0.7562,  0.2073]]),\n",
       "       tensor([[-0.4985, -1.1752,  0.1213, -0.5398, -0.6632,  0.5927,  0.7321, -1.6681,\n",
       "                -1.0387, -0.4965,  0.4480]]),\n",
       "       tensor([[-0.2508, -1.0117,  0.1146, -0.2976, -0.7126,  0.8542,  0.9465, -1.6920,\n",
       "                -0.8943, -0.3930,  0.5274]]),\n",
       "       tensor([[-0.2128, -1.0331,  0.2577, -0.2391, -0.4949,  0.7243,  0.7096, -1.6122,\n",
       "                -0.9130, -0.6627,  0.2971]]),\n",
       "       tensor([[ 0.1050, -0.9235,  0.2668, -0.3396, -0.7965,  1.0852,  0.8983, -1.6420,\n",
       "                -0.8267, -0.5822,  0.3868]]),\n",
       "       tensor([[-0.1269, -0.7988,  0.3111, -0.1706, -0.6827,  1.1995,  0.9036, -1.8266,\n",
       "                -0.9222, -0.5458,  0.1639]]),\n",
       "       tensor([[ 0.0558, -0.6015,  0.1029, -0.1233, -0.6618,  1.1682,  0.9333, -1.9236,\n",
       "                -0.7053, -0.5197,  0.2762]]),\n",
       "       tensor([[ 0.0841, -0.4633,  0.2478, -0.3009, -0.5853,  1.1925,  1.0391, -1.8372,\n",
       "                -0.8458, -0.5330,  0.3048]]),\n",
       "       tensor([[ 0.2701, -0.2723,  0.0950, -0.3954, -0.5309,  1.0590,  0.8074, -1.6390,\n",
       "                -0.8108, -0.5915,  0.2510]]),\n",
       "       tensor([[ 0.0476, -0.5934,  0.3454, -0.5598, -0.5535,  1.3310,  1.0970, -1.7304,\n",
       "                -1.2295, -0.6892, -0.0760]]),\n",
       "       tensor([[ 0.0805, -0.6636,  0.4437, -0.3536, -0.5545,  1.6784,  0.9662, -1.7965,\n",
       "                -1.0321, -0.2815, -0.1114]]),\n",
       "       tensor([[ 0.2363, -0.7565,  0.5083, -0.3228, -0.5916,  1.8962,  0.9676, -1.8606,\n",
       "                -1.0826, -0.5099, -0.0211]]),\n",
       "       tensor([[ 0.4642, -0.5091,  0.7802, -0.0905, -0.5661,  2.0515,  1.0507, -1.7580,\n",
       "                -0.9947, -0.6144, -0.0418]]),\n",
       "       tensor([[ 0.3970, -0.3644,  0.6976,  0.0790, -0.6916,  1.6440,  0.9815, -1.7842,\n",
       "                -0.7497, -0.6092,  0.1368]]),\n",
       "       tensor([[ 0.7266, -0.3578,  0.7273,  0.1580, -0.6848,  1.7351,  0.9008, -1.8374,\n",
       "                -0.7790, -0.7909,  0.0766]]),\n",
       "       tensor([[ 0.5050, -0.3783,  0.5260,  0.1164, -0.7668,  1.5794,  0.8995, -1.7455,\n",
       "                -0.6759, -0.5733,  0.3367]]),\n",
       "       tensor([[ 0.6608, -0.3844,  0.1925,  0.1797, -0.8972,  1.4406,  0.8787, -1.9718,\n",
       "                -0.8022, -0.6808,  0.2339]]),\n",
       "       tensor([[ 0.6710, -0.0281,  0.2273,  0.4147, -0.9238,  1.3792,  0.8563, -1.8889,\n",
       "                -0.4103, -0.6908,  0.2956]]),\n",
       "       tensor([[ 0.8355,  0.0082,  0.3341,  0.1912, -0.9482,  1.1958,  0.9616, -1.7708,\n",
       "                -0.4152, -0.6841,  0.5176]]),\n",
       "       tensor([[ 0.7379,  0.2447,  0.1759,  0.5265, -0.9293,  0.9673,  0.6766, -1.6653,\n",
       "                -0.3473, -0.8575,  0.1612]]),\n",
       "       tensor([[ 0.8386,  0.4348,  0.1294,  0.3875, -0.8182,  0.9865,  0.7571, -1.5684,\n",
       "                -0.2577, -0.7136,  0.2056]]),\n",
       "       tensor([[ 6.2765e-01,  5.5314e-01, -1.2814e-04,  6.2933e-01, -7.7569e-01,\n",
       "                 8.0533e-01,  4.4921e-01, -1.4457e+00, -1.2163e-01, -7.7741e-01,\n",
       "                 1.9789e-01]]),\n",
       "       tensor([[ 0.5512,  0.4136, -0.1535,  0.7563, -0.5120,  0.7599,  0.7088, -1.1163,\n",
       "                 0.1108, -0.6012,  0.3438]]),\n",
       "       tensor([[ 0.3399,  0.4831, -0.2349,  0.7404, -0.4920,  0.8395,  0.4976, -1.1900,\n",
       "                -0.0179, -0.6045,  0.0771]])])"
      ]
     },
     "execution_count": 7,
     "metadata": {},
     "output_type": "execute_result"
    }
   ],
   "source": [
    "snn.mems_fifo['output']"
   ]
  },
  {
   "cell_type": "code",
   "execution_count": 20,
   "id": "c24ea1c4",
   "metadata": {},
   "outputs": [],
   "source": [
    "mems = torch.stack(list(snn.mems_fifo)).squeeze().cpu().numpy()"
   ]
  },
  {
   "cell_type": "code",
   "execution_count": 21,
   "id": "1cd189ff",
   "metadata": {},
   "outputs": [
    {
     "data": {
      "text/plain": [
       "<matplotlib.image.AxesImage at 0x21ec593d070>"
      ]
     },
     "execution_count": 21,
     "metadata": {},
     "output_type": "execute_result"
    },
    {
     "data": {
      "image/png": "[encoded data removed]",
      "text/plain": [
       "<Figure size 640x480 with 1 Axes>"
      ]
     },
     "metadata": {},
     "output_type": "display_data"
    }
   ],
   "source": [
    "import matplotlib.pyplot as plt\n",
    "\n",
    "plt.imshow(mems)\n",
    "\n"
   ]
  }
 ],
 "metadata": {
  "kernelspec": {
   "display_name": "deeplearning",
   "language": "python",
   "name": "python3"
  },
  "language_info": {
   "codemirror_mode": {
    "name": "ipython",
    "version": 3
   },
   "file_extension": ".py",
   "mimetype": "text/x-python",
   "name": "python",
   "nbconvert_exporter": "python",
   "pygments_lexer": "ipython3",
   "version": "3.8.0"
  }
 },
 "nbformat": 4,
 "nbformat_minor": 5
}
