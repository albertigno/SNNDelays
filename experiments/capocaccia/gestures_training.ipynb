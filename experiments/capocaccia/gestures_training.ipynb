{
 "cells": [
  {
   "cell_type": "code",
   "execution_count": 1,
   "id": "9c9cfe8e",
   "metadata": {},
   "outputs": [
    {
     "name": "stderr",
     "output_type": "stream",
     "text": [
      "c:\\Users\\Alberto\\anaconda3\\envs\\deepsnn\\Lib\\site-packages\\tqdm\\auto.py:21: TqdmWarning: IProgress not found. Please update jupyter and ipywidgets. See https://ipywidgets.readthedocs.io/en/stable/user_install.html\n",
      "  from .autonotebook import tqdm as notebook_tqdm\n"
     ]
    },
    {
     "name": "stdout",
     "output_type": "stream",
     "text": [
      "Running on: cuda:0\n",
      "[CropTime(min=0, max=1000000.0), Downsample(time_factor=1, spatial_factor=0.25, sensor_size=None, target_size=None), ToFrame(sensor_size=(32, 32, 2), time_window=None, event_count=None, n_time_bins=50, n_event_bins=None, overlap=0, include_incomplete=False)]\n",
      "Initializing GPU cache for 1077 samples...\n",
      "Cache initialized in 58.64 seconds\n",
      "Initializing GPU cache for 264 samples...\n",
      "Cache initialized in 16.32 seconds\n"
     ]
    }
   ],
   "source": [
    "import torch\n",
    "import time\n",
    "from snn_delays.snn_refactored import SNN\n",
    "from snn_delays.utils.dataset_loader import DatasetLoader\n",
    "from snn_delays.utils.train_utils_refact_minimal import train, get_device, propagate_batch_simple\n",
    "from snn_delays.utils.test_behavior import tb_minimal\n",
    "\n",
    "'''\n",
    "SHD dataset as in ablation study\n",
    "'''\n",
    "\n",
    "device = get_device()\n",
    "\n",
    "# for reproducibility\n",
    "torch.manual_seed(10)\n",
    "\n",
    "dataset = 'ibm_gestures'\n",
    "num_steps = 50\n",
    "batch_size = 32\n",
    "\n",
    "# DATASET\n",
    "DL = DatasetLoader(dataset=dataset,\n",
    "                  caching='gpu',\n",
    "                  num_workers=0,\n",
    "                  batch_size=batch_size,\n",
    "                  total_time=num_steps,\n",
    "                  sensor_size_to=32,\n",
    "                  crop_to=1e6)\n",
    "train_loader, test_loader, dataset_dict = DL.get_dataloaders()"
   ]
  },
  {
   "cell_type": "code",
   "execution_count": 2,
   "id": "81af055c",
   "metadata": {},
   "outputs": [
    {
     "name": "stdout",
     "output_type": "stream",
     "text": [
      "img shape: torch.Size([32, 50, 2, 32, 32])\n",
      "label shape: torch.Size([32, 11])\n"
     ]
    }
   ],
   "source": [
    "for img, label in test_loader:\n",
    "    print('img shape:', img.shape)\n",
    "    print('label shape:', label.shape)\n",
    "    break"
   ]
  },
  {
   "cell_type": "code",
   "execution_count": null,
   "id": "6796b078",
   "metadata": {},
   "outputs": [],
   "source": [
    "structure = (64, 3, 'f')\n",
    "extra_kwargs = {}\n",
    "\n",
    "snn = SNN(dataset_dict=dataset_dict, structure=structure, tau_m='log-normal', win=num_steps, loss_fn='mem_sum', batch_size=batch_size, device=device, \n",
    "          **extra_kwargs)\n",
    "\n",
    "snn.set_layers()\n",
    "snn.to(device)\n",
    "print(snn)\n",
    "\n",
    "num_epochs = 10\n",
    "lr = 1e-3\n",
    "train(snn, train_loader, test_loader, lr, num_epochs, test_behavior=tb_minimal, scheduler=(10, 0.95), test_every=1)\n"
   ]
  },
  {
   "cell_type": "code",
   "execution_count": null,
   "id": "e74cdf8f",
   "metadata": {},
   "outputs": [],
   "source": []
  }
 ],
 "metadata": {
  "kernelspec": {
   "display_name": "deepsnn",
   "language": "python",
   "name": "python3"
  },
  "language_info": {
   "codemirror_mode": {
    "name": "ipython",
    "version": 3
   },
   "file_extension": ".py",
   "mimetype": "text/x-python",
   "name": "python",
   "nbconvert_exporter": "python",
   "pygments_lexer": "ipython3",
   "version": "3.12.1"
  }
 },
 "nbformat": 4,
 "nbformat_minor": 5
}
