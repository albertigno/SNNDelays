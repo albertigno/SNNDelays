{
 "cells": [
  {
   "cell_type": "code",
   "execution_count": 1,
   "metadata": {},
   "outputs": [
    {
     "name": "stderr",
     "output_type": "stream",
     "text": [
      "c:\\Users\\Alberto\\anaconda3\\envs\\deepsnn\\Lib\\site-packages\\tqdm\\auto.py:21: TqdmWarning: IProgress not found. Please update jupyter and ipywidgets. See https://ipywidgets.readthedocs.io/en/stable/user_install.html\n",
      "  from .autonotebook import tqdm as notebook_tqdm\n"
     ]
    },
    {
     "name": "stdout",
     "output_type": "stream",
     "text": [
      "Running on: cuda:0\n"
     ]
    }
   ],
   "source": [
    "from snn_delays.snn_refactored import SNN\n",
    "from snn_delays.utils.dataset_loader import DatasetLoader\n",
    "from snn_delays.utils.train_utils_refact_minimal import train, get_device, propagate_batch_simple, to_plot\n",
    "from snn_delays.utils.test_behavior import tb_addtask_refact\n",
    "# from snn_delays.utils.visualization_utils import plot_taus\n",
    "import numpy as np\n",
    "device = get_device()"
   ]
  },
  {
   "cell_type": "markdown",
   "metadata": {},
   "source": [
    "V3: multi-add task with noise"
   ]
  },
  {
   "cell_type": "code",
   "execution_count": 2,
   "metadata": {},
   "outputs": [
    {
     "name": "stdout",
     "output_type": "stream",
     "text": [
      "torch.Size([128, 50, 3])\n",
      "torch.Size([128, 5, 1])\n"
     ]
    }
   ],
   "source": [
    "time_window = 50\n",
    "batch_size = 128 # 128: anil kag\n",
    "\n",
    "ckpt_dir = 'addtask_04_2025_tests'\n",
    "\n",
    "dataset = 'multiaddtask' # episodic by default\n",
    "#dataset = 'addtask' \n",
    "\n",
    "num_epochs = 3000 # important: epochs here refer to iteration steps\n",
    "\n",
    "dataset_size = batch_size*num_epochs\n",
    "\n",
    "DL = DatasetLoader(dataset=dataset, caching='gpu', \n",
    "                   num_workers=0, batch_size=batch_size, \n",
    "                   dataset_size = dataset_size,\n",
    "                   total_time=time_window)\n",
    "train_loader, test_loader, dataset_dict = DL.get_dataloaders()\n",
    "dataset_dict[\"time_ms\"] = 2e3\n",
    "\n",
    "for img, lbl in train_loader:\n",
    "    print(img.shape)\n",
    "    print(lbl.shape)\n",
    "    break"
   ]
  },
  {
   "cell_type": "code",
   "execution_count": 3,
   "metadata": {},
   "outputs": [],
   "source": [
    "# import torch\n",
    "# print(img[0])\n",
    "# print((torch.sum(img[0])-5)/(0.9*5.0))\n",
    "# print(lbl[0])\n"
   ]
  },
  {
   "cell_type": "markdown",
   "metadata": {},
   "source": [
    "Training multi-add memory task (two sets)"
   ]
  },
  {
   "cell_type": "code",
   "execution_count": 4,
   "metadata": {},
   "outputs": [
    {
     "name": "stdout",
     "output_type": "stream",
     "text": [
      "Delta t: 40.0 ms\n",
      "Delta t: 40.0 ms\n",
      "Delta t: 40.0 ms\n",
      "Delta t: 40.0 ms\n",
      "Delta t: 40.0 ms\n",
      "Delta t: 40.0 ms\n",
      "Delta t: 40.0 ms\n",
      "Delta t: 40.0 ms\n",
      "Delta t: 40.0 ms\n",
      "Delta t: 40.0 ms\n",
      "Delta t: 40.0 ms\n",
      "Delta t: 40.0 ms\n",
      "Delta t: 40.0 ms\n",
      "Delta t: 40.0 ms\n",
      "Delta t: 40.0 ms\n"
     ]
    },
    {
     "data": {
      "text/plain": [
       "SNN(\n",
       "  (criterion): MSELoss()\n",
       "  (layers): ModuleList(\n",
       "    (0): FeedforwardSNNLayer(\n",
       "      (linear): Linear(in_features=3, out_features=4, bias=False)\n",
       "    )\n",
       "    (1): FeedforwardSNNLayer(\n",
       "      (linear): Linear(in_features=160, out_features=4, bias=False)\n",
       "    )\n",
       "    (2): FeedforwardSNNLayer(\n",
       "      (linear): Linear(in_features=4, out_features=1, bias=False)\n",
       "    )\n",
       "  )\n",
       ")"
      ]
     },
     "execution_count": 4,
     "metadata": {},
     "output_type": "execute_result"
    }
   ],
   "source": [
    "num_h = 4\n",
    "\n",
    "extra_kwargs = {'multifeedforward':3}\n",
    "snn_f = SNN(dataset_dict, structure=(num_h, 2, 'mf'), win=time_window,\n",
    "             loss_fn='mem_prediction', batch_size=batch_size, device=device, debug=False, **extra_kwargs)\n",
    "\n",
    "snn_f.set_layers()\n",
    "snn_f.to(device)\n",
    "\n",
    "snn_rnn = SNN(dataset_dict, structure=(num_h, 2, 'r'), win=time_window,\n",
    "               loss_fn='mem_prediction', batch_size=batch_size, device=device, debug=False)\n",
    "\n",
    "snn_rnn.set_layers()\n",
    "snn_rnn.to(device)\n",
    "\n",
    "extra_kwargs = {'delay_range':(40, 1),\n",
    "                'pruned_delays': 3}\n",
    "\n",
    "snn_rd = SNN(dataset_dict, structure=(num_h, 2, 'd'), win=time_window,\n",
    "               loss_fn='mem_prediction', batch_size=batch_size, device=device, debug=False, **extra_kwargs)\n",
    "\n",
    "snn_rd.set_layers()\n",
    "snn_rd.to(device)"
   ]
  },
  {
   "cell_type": "code",
   "execution_count": 5,
   "metadata": {},
   "outputs": [
    {
     "name": "stdout",
     "output_type": "stream",
     "text": [
      "Epoch [1/1], learning_rates 0.001000, 1.000000\n"
     ]
    },
    {
     "name": "stderr",
     "output_type": "stream",
     "text": [
      "c:\\Users\\Alberto\\anaconda3\\envs\\deepsnn\\Lib\\site-packages\\torch\\optim\\lr_scheduler.py:156: UserWarning: The epoch parameter in `scheduler.step()` was not necessary and is being deprecated where possible. Please use `scheduler.step()` to step the scheduler. During the deprecation, if epoch is different from None, the closed form is used instead of the new chainable form, where available. Please open an issue if you are unable to replicate your use case: https://github.com/pytorch/pytorch/issues/new/choose.\n",
      "  warnings.warn(EPOCH_DEPRECATION_WARNING, UserWarning)\n"
     ]
    },
    {
     "name": "stdout",
     "output_type": "stream",
     "text": [
      "Step [300/3000], Loss: 1.31302\n",
      "Step [600/3000], Loss: 1.29618\n",
      "Step [900/3000], Loss: 1.28289\n",
      "Step [1200/3000], Loss: 1.34255\n",
      "Step [1500/3000], Loss: 1.30665\n",
      "Step [1800/3000], Loss: 1.34013\n",
      "Step [2100/3000], Loss: 1.19483\n",
      "Step [2400/3000], Loss: 1.24341\n",
      "Step [2700/3000], Loss: 1.21013\n",
      "Step [3000/3000], Loss: 1.31217\n",
      "384000\n",
      "Time elasped: 584.0851941108704\n",
      "Epoch [1/1], learning_rates 0.001000, 1.000000\n",
      "Step [300/3000], Loss: 0.12868\n",
      "Step [600/3000], Loss: 0.04360\n",
      "Step [900/3000], Loss: 0.02855\n",
      "Step [1200/3000], Loss: 0.02362\n",
      "Step [1500/3000], Loss: 0.02778\n",
      "Step [1800/3000], Loss: 0.06508\n",
      "Step [2100/3000], Loss: 0.02603\n",
      "Step [2400/3000], Loss: 0.02083\n",
      "Step [2700/3000], Loss: 0.02589\n",
      "Step [3000/3000], Loss: 0.02106\n",
      "384000\n",
      "Time elasped: 522.9013164043427\n",
      "Epoch [1/1], learning_rates 0.001000, 1.000000\n",
      "Step [300/3000], Loss: 1.28704\n",
      "Step [600/3000], Loss: 1.23338\n",
      "Step [900/3000], Loss: 1.29350\n",
      "Step [1200/3000], Loss: 1.24300\n",
      "Step [1500/3000], Loss: 1.24571\n",
      "Step [1800/3000], Loss: 1.25786\n",
      "Step [2100/3000], Loss: 1.29225\n",
      "Step [2400/3000], Loss: 1.27798\n",
      "Step [2700/3000], Loss: 1.26990\n",
      "Step [3000/3000], Loss: 1.20537\n",
      "384000\n",
      "Time elasped: 614.0246350765228\n"
     ]
    }
   ],
   "source": [
    "lr_tau = 1.0\n",
    "train(snn_f, train_loader, test_loader, 1e-3, 1, ckpt_dir=ckpt_dir, test_behavior=tb_addtask_refact, \n",
    "      scheduler=(100, 0.95), clear=False, lr_tau=lr_tau, printed_steps=10)\n",
    "train(snn_rnn, train_loader, test_loader, 1e-3, 1, ckpt_dir=ckpt_dir, test_behavior=tb_addtask_refact, \n",
    "      scheduler=(100, 0.95), clear=False, lr_tau=lr_tau, printed_steps=10)\n",
    "train(snn_rd, train_loader, test_loader, 1e-3, 1, ckpt_dir=ckpt_dir, test_behavior=tb_addtask_refact, \n",
    "      scheduler=(100, 0.95), clear=False, lr_tau=lr_tau, printed_steps=10)"
   ]
  },
  {
   "cell_type": "code",
   "execution_count": 6,
   "metadata": {},
   "outputs": [
    {
     "data": {
      "text/plain": [
       "Text(0.5, 1.0, 'train loss')"
      ]
     },
     "execution_count": 6,
     "metadata": {},
     "output_type": "execute_result"
    },
    {
     "data": {
      "image/png": "[encoded data removed]",
      "text/plain": [
       "<Figure size 640x480 with 1 Axes>"
      ]
     },
     "metadata": {},
     "output_type": "display_data"
    }
   ],
   "source": [
    "import numpy as np\n",
    "from snn_delays.utils.visualization_utils import plot_per_epoch\n",
    "import matplotlib.pyplot as plt\n",
    "loss_error = np.mean(np.array(snn_f.train_loss)[:,1][-100:])\n",
    "plot_per_epoch(snn_f.train_loss, label = 'feedforward')\n",
    "plot_per_epoch(snn_rnn.train_loss, label = 'recurrent')\n",
    "plot_per_epoch(snn_rd.train_loss, label = 'delays')\n",
    "#plt.title(f'loss error = {loss_error}')\n",
    "\n",
    "plt.ylim(0, 0.1)\n",
    "plt.title('train loss')"
   ]
  },
  {
   "cell_type": "code",
   "execution_count": 7,
   "metadata": {},
   "outputs": [],
   "source": [
    "snn_f.debug = True\n",
    "snn_rnn.debug = True\n",
    "snn_rd.debug = True\n",
    "snn_f.init_state_logger()\n",
    "snn_rnn.init_state_logger()\n",
    "snn_rd.init_state_logger()\n",
    "\n",
    "from snn_delays.utils.train_utils_refact_minimal import propagate_batch_simple\n",
    "images, labels_mf = propagate_batch_simple(snn_f, test_loader)\n",
    "_, labels_rnn = propagate_batch_simple(snn_rnn, test_loader)\n",
    "_, labels_rd = propagate_batch_simple(snn_rd, test_loader)"
   ]
  },
  {
   "cell_type": "code",
   "execution_count": 8,
   "metadata": {},
   "outputs": [],
   "source": [
    "ref_mf = labels_mf[:,:int(0.1*time_window),0].T.cpu().numpy()\n",
    "out_mf = snn_f.mem_state['output'][int(0.9*time_window):].detach().cpu().numpy()\n",
    "\n",
    "ref_rnn = labels_rnn[:,:int(0.1*time_window),0].T.cpu().numpy()\n",
    "out_rnn = snn_rnn.mem_state['output'][int(0.9*time_window):].detach().cpu().numpy()\n",
    "\n",
    "ref_rd = labels_rd[:,:int(0.1*time_window),0].T.cpu().numpy()\n",
    "out_rd = snn_rd.mem_state['output'][int(0.9*time_window):].detach().cpu().numpy()"
   ]
  },
  {
   "cell_type": "code",
   "execution_count": 9,
   "metadata": {},
   "outputs": [
    {
     "name": "stdout",
     "output_type": "stream",
     "text": [
      "(5, 50)\n",
      "(5, 50)\n",
      "1.1306666\n",
      "(5, 50)\n",
      "(5, 50)\n",
      "0.11720899\n",
      "(5, 50)\n",
      "(5, 50)\n",
      "1.1324444\n"
     ]
    },
    {
     "data": {
      "image/png": "[encoded data removed]",
      "text/plain": [
       "<Figure size 1500x300 with 9 Axes>"
      ]
     },
     "metadata": {},
     "output_type": "display_data"
    }
   ],
   "source": [
    "from snn_delays.utils.visualization_utils import plot_add_task, plot_add_task2, plot_add_task3, plot_add_task4\n",
    "# Create a figure with 3 rows and N columns (for stacking results horizontally)\n",
    "fig, axes = plt.subplots(3, 3, figsize=(15, 3))  # 3 rows, 2 columns\n",
    "\n",
    "def plot_add_task(output, reference, axes=None, name=''):\n",
    "    # ref = reference\n",
    "    # out = output\n",
    "\n",
    "\n",
    "\n",
    "    # diff = ref - out[:, :, 0]\n",
    "\n",
    "    # print(np.mean(diff))\n",
    "\n",
    "\n",
    "    ns = 50 # num samples to display for better viz\n",
    "\n",
    "    ref = reference[:, :ns]\n",
    "    out = output[:, :ns, 0]\n",
    "\n",
    "    print(ref.shape)\n",
    "    print(out.shape)\n",
    "\n",
    "    diff = abs(ref - out)\n",
    "\n",
    "    print(np.mean(diff))\n",
    "\n",
    "\n",
    "    if axes is None:\n",
    "        fig, axes = plt.subplots(3, 1, figsize=(5, 10))  # Create a new figure if axes not provided\n",
    "\n",
    "    axes[0].imshow(ref, vmin=0, vmax=2)\n",
    "    axes[0].set_title('Reference '+name)\n",
    "    axes[0].set_ylabel('Time')\n",
    "\n",
    "    axes[1].imshow(out, vmin=0, vmax=2)\n",
    "    axes[1].set_title('Output')\n",
    "    axes[1].set_ylabel('Time')\n",
    "\n",
    "    axes[2].imshow(diff, vmin=-1.0, vmax=2.0)\n",
    "    axes[2].set_title('Difference')\n",
    "    axes[2].set_ylabel('Time')\n",
    "    axes[2].set_xlabel('Training Sample')\n",
    "\n",
    "    return axes  # Return the axes to be used in an external figure\n",
    "\n",
    "\n",
    "plot_add_task(out_mf, ref_mf, axes[:, 0])  \n",
    "plot_add_task(out_rnn, ref_rnn, axes[:, 1])  \n",
    "plot_add_task(out_rd, ref_rd, axes[:, 2])  \n",
    "\n",
    "plt.tight_layout()\n",
    "plt.show()"
   ]
  }
 ],
 "metadata": {
  "kernelspec": {
   "display_name": "deepsnn",
   "language": "python",
   "name": "python3"
  },
  "language_info": {
   "codemirror_mode": {
    "name": "ipython",
    "version": 3
   },
   "file_extension": ".py",
   "mimetype": "text/x-python",
   "name": "python",
   "nbconvert_exporter": "python",
   "pygments_lexer": "ipython3",
   "version": "3.12.1"
  }
 },
 "nbformat": 4,
 "nbformat_minor": 2
}
