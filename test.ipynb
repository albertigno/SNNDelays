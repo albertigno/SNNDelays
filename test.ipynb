{
 "cells": [
  {
   "cell_type": "code",
   "execution_count": 4,
   "metadata": {},
   "outputs": [
    {
     "name": "stdout",
     "output_type": "stream",
     "text": [
      "Running on: cuda:0\n",
      "[ToFrame(sensor_size=(700, 1, 1), time_window=None, event_count=None, n_time_bins=16, n_event_bins=None, overlap=0, include_incomplete=False)]\n",
      "\n",
      "[INFO] Delays: tensor([ 0,  8, 16, 24])\n",
      "Layer Names and Parameters:\n",
      "Layer: tau_m_1, Requires Grad: True\n",
      "Layer: tau_m_o, Requires Grad: True\n",
      "Layer: tau_m_2, Requires Grad: True\n",
      "Layer: f0_f1.weight, Requires Grad: True\n",
      "Layer: f1_f2.weight, Requires Grad: True\n",
      "Layer: f2_o.weight, Requires Grad: True\n",
      "\n",
      "Projection Names:\n",
      "Projection: f1_f2\n",
      "Projection: f2_o\n"
     ]
    }
   ],
   "source": [
    "# snn_layers.py\n",
    "\n",
    "import torch\n",
    "from snn_delays.snn import SNN\n",
    "from snn_delays.utils.dataset_loader import DatasetLoader\n",
    "from snn_delays.utils.train_utils import get_device\n",
    "\n",
    "# Ensure reproducibility\n",
    "torch.manual_seed(10)\n",
    "\n",
    "# Setup device\n",
    "device = get_device()\n",
    "\n",
    "# Define dataset parameters\n",
    "dataset = 'shd'\n",
    "total_time = 16\n",
    "batch_size = 256\n",
    "\n",
    "# Initialize DatasetLoader and get data loaders\n",
    "DL = DatasetLoader(dataset=dataset, caching='memory', num_workers=0, batch_size=batch_size, total_time=total_time)\n",
    "train_loader, test_loader, dataset_dict = DL.get_dataloaders()\n",
    "\n",
    "# Define model parameters\n",
    "structure = (48, 2)\n",
    "connection_type = 'f'\n",
    "delay = (32, 8)\n",
    "delay_type = 'ho'\n",
    "tau_m = 3.0\n",
    "win = total_time\n",
    "loss_fn = 'mem_sum'\n",
    "debug = True\n",
    "\n",
    "# Initialize SNN model\n",
    "snn = SNN(dataset_dict=dataset_dict, structure=structure, connection_type=connection_type, delay=delay, delay_type=delay_type, tau_m=tau_m, win=win, loss_fn=loss_fn, batch_size=batch_size, device=device, debug=debug)\n",
    "snn.to(device)\n",
    "\n",
    "# Print all layer names and their parameters\n",
    "print(\"Layer Names and Parameters:\")\n",
    "for name, param in snn.named_parameters():\n",
    "    print(f\"Layer: {name}, Requires Grad: {param.requires_grad}\")\n",
    "\n",
    "# Print all projection names\n",
    "print(\"\\nProjection Names:\")\n",
    "for proj in snn.proj_names:\n",
    "    print(f\"Projection: {proj}\")"
   ]
  },
  {
   "cell_type": "code",
   "execution_count": 6,
   "metadata": {},
   "outputs": [
    {
     "name": "stdout",
     "output_type": "stream",
     "text": [
      "tau_m_1\n",
      "tau_m_o\n",
      "tau_m_2\n",
      "f0_f1.weight\n",
      "f1_f2.weight\n",
      "f2_o.weight\n",
      "yeag\n"
     ]
    }
   ],
   "source": [
    "for name, param in snn.named_parameters():\n",
    "    if 'o.weight' in name:\n",
    "        param.requires_grad = True\n",
    "    else:\n",
    "        param.requires_grad = False"
   ]
  },
  {
   "cell_type": "code",
   "execution_count": null,
   "metadata": {},
   "outputs": [],
   "source": []
  }
 ],
 "metadata": {
  "kernelspec": {
   "display_name": "deepsnn",
   "language": "python",
   "name": "python3"
  },
  "language_info": {
   "codemirror_mode": {
    "name": "ipython",
    "version": 3
   },
   "file_extension": ".py",
   "mimetype": "text/x-python",
   "name": "python",
   "nbconvert_exporter": "python",
   "pygments_lexer": "ipython3",
   "version": "3.9.16"
  }
 },
 "nbformat": 4,
 "nbformat_minor": 2
}
